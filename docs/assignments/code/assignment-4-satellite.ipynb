{
 "cells": [
  {
   "cell_type": "markdown",
   "metadata": {},
   "source": [
    "# Code handout - Assignment 4 - Satellite\n",
    "\n",
    "In this assignment, you will write a small simulator for a satellite in orbit.\n",
    "In order to simulate and render the satellite, you will need to write some code.\n",
    "However, much of the code is already written for you (mostly to make things compatible with the visualization).\n",
    "\n",
    "The only code you need to understand is the code under **Satellite dynamics** and **Simulation**,\n",
    "the animation code in **Animation** is only for visualization.\n",
    "Sadly, the visualization only seems to work in the web browser, so if you are running the notebooks in (for instance) vs-code, you will either need a different method for figuring out the difference between the cases or you will need to run a jupyter-server or something similar.\n",
    "\n",
    "Good luck!"
   ]
  },
  {
   "cell_type": "markdown",
   "metadata": {},
   "source": [
    "## Imports\n",
    "\n",
    "For this assingment we will need:\n",
    "- NumPy for vectors/matrices\n",
    "- SciPy for solving the ODEs and for rotation matrices\n",
    "\n",
    "You may want to add more imports, but it should be necessary to do everything with this."
   ]
  },
  {
   "cell_type": "code",
   "execution_count": 54,
   "metadata": {},
   "outputs": [],
   "source": [
    "import numpy as np\n",
    "from scipy.integrate import solve_ivp\n",
    "from scipy.spatial.transform import Rotation"
   ]
  },
  {
   "cell_type": "markdown",
   "metadata": {},
   "source": [
    "## Satellite dynamics\n",
    "\n",
    "In order to simulate the dynamics of the satellite, we need the ODEs for the state variables.\n",
    "The `make_satellite_dynamics`-function will return exactly this.\n",
    "\n",
    "You will have to fill in the expressions that calculate the time derivative of:\n",
    "\n",
    "- Position: $r_c^i$, `i_r_c`\n",
    "- Rotation: $q$, `q` (as a quaternion)\n",
    "- Velocity: $v_c^i$, `i_v_c`\n",
    "- Angular velocity: $\\omega_{i/b}^b$, `b_omega_ib`"
   ]
  },
  {
   "cell_type": "code",
   "execution_count": 27,
   "metadata": {},
   "outputs": [],
   "source": [
    "def make_satellite_dynamics(b_M_c, G, m_T):\n",
    "    \"\"\"Wraps `satellite_dynamics` in a scope with necessary constants defined\"\"\"\n",
    "    def satellite_dynamics(t, x):\n",
    "        i_r_c = x[0:3]\n",
    "        q = x[3:7]\n",
    "        i_v_c = x[7:10]\n",
    "        b_omega_ib = x[10:13]\n",
    "\n",
    "        # Kinematics\n",
    "        i_r_c_dot = np.zeros((3,))       # TODO\n",
    "        q_dot = np.zeros((4,))           # TODO\n",
    "\n",
    "        # Dynamics\n",
    "        i_v_c_dot = np.zeros((3,))       # TODO\n",
    "        b_omega_ib_dot = np.zeros((3,))  # TODO\n",
    "\n",
    "        state_dot = np.zeros_like(x)\n",
    "        state_dot[0:3] = i_r_c_dot[:]\n",
    "        state_dot[3:7] = q_dot[:]\n",
    "        state_dot[7:10] = i_v_c_dot[:]\n",
    "        state_dot[10:13] = b_omega_ib_dot[:]\n",
    "\n",
    "        return state_dot\n",
    "\n",
    "    return satellite_dynamics"
   ]
  },
  {
   "cell_type": "markdown",
   "metadata": {},
   "source": [
    "## Simulation\n",
    "\n",
    "Now, in order to simulate the trajectory, you will need to provide the correct expressions\n",
    "for the inertia matrices around the relevant mass centers.\n",
    "There are two cases; one without the added mass and one with!\n",
    "\n",
    "In the first case, you already have all you need.\n",
    "In the second case, you will need:\n",
    "\n",
    "- $r_s^b$, `b_r_s`\n",
    "    - Displacement from mass center to satellite center\n",
    "- $M_o^b$, `b_M_o`\n",
    "    - Inertia matrix with respect to the old center of mass\n",
    "- $M_c^b$, `b_M_c`\n",
    "    - Inertia matrix with respect to the (new) center of mass\n",
    "\n",
    "All vectors and matrices are in the body frame which has its origin in the center of the satellite.\n"
   ]
  },
  {
   "cell_type": "code",
   "execution_count": 53,
   "metadata": {},
   "outputs": [],
   "source": [
    "# Constants\n",
    "earth_radius = 6356e+3\n",
    "orbit_height = 36000e+3\n",
    "azi = np.pi / 4\n",
    "dec = np.pi / 4\n",
    "\n",
    "# Initial state\n",
    "pos = (earth_radius + orbit_height) * \\\n",
    "    np.array([np.sin(dec) * np.cos(azi), np.sin(dec) * np.sin(azi), np.cos(dec)])\n",
    "q = Rotation.random().as_quat()\n",
    "vel = np.zeros((3,))\n",
    "ang_vel = np.array([np.deg2rad(60), np.deg2rad(80), np.deg2rad(100)])\n",
    "state = np.hstack((pos, q, vel, ang_vel))\n",
    "\n",
    "# Parameters\n",
    "m_T = 5.972e+24\n",
    "G = 6.67e-11\n",
    "l = 0.5\n",
    "rho = 1\n",
    "m = rho * l**3\n",
    "\n",
    "with_added_mass = False\n",
    "\n",
    "if with_added_mass:\n",
    "    m_added = 0.1\n",
    "    b_r_0 = l * np.ones((3,))  # Location of the added mass relative to satellite center\n",
    "    b_r_s = np.zeros((3,))     # TODO\n",
    "    b_M_o = np.zeros((3,3))    # TODO\n",
    "    b_M_c = np.zeros((3,3))    # TODO\n",
    "else:\n",
    "    b_M_c = (m * (l**2) / 6) * np.eye(3)  # Interia matrix around the center of mass\n",
    "    b_r_s = np.zeros((3,))                # Displacement of satellite center from mass center\n",
    "    \n",
    "\n",
    "satellite_dynamics = make_satellite_dynamics(b_M_c, G, m_T)\n",
    "time_final = 12\n",
    "result = solve_ivp(satellite_dynamics, (0, time_final), state, \n",
    "                    t_eval = np.linspace(0, time_final, num=1001))\n",
    "\n",
    "time = result.t\n",
    "state_trajectory = result.y\n",
    "positions = (1e-7 * state_trajectory[0:3]).T  # Scaled to produce positions that are not literally thousands of miles away!\n",
    "rotations = state_trajectory[3:7].T"
   ]
  },
  {
   "cell_type": "markdown",
   "metadata": {},
   "source": [
    "## Animation\n",
    "\n",
    "We try to animate the satellite using the Python-library `pythreejs`, which is a wrapper library for `three.js`.\n",
    "It is *not necessary* to understand the animation code, it should just work.\n",
    "Provided one is running the notebook in the web browser through a jupyter-server (e.g. not in vs-code).\n",
    "If the animation seems to shake, contract or \"shudder\", try changing the number of simulated timesteps."
   ]
  },
  {
   "cell_type": "code",
   "execution_count": 52,
   "metadata": {},
   "outputs": [
    {
     "data": {
      "application/vnd.jupyter.widget-view+json": {
       "model_id": "afef7a5227354efcbc5c061ee3636947",
       "version_major": 2,
       "version_minor": 0
      },
      "text/plain": [
       "Renderer(camera=PerspectiveCamera(aspect=1.3333333333333333, position=(10.0, 6.0, 10.0), projectionMatrix=(1.0…"
      ]
     },
     "metadata": {},
     "output_type": "display_data"
    },
    {
     "data": {
      "application/vnd.jupyter.widget-view+json": {
       "model_id": "79d7bba55b0d46d0ac07764cea6321e6",
       "version_major": 2,
       "version_minor": 0
      },
      "text/plain": [
       "AnimationAction(clip=AnimationClip(tracks=(VectorKeyframeTrack(name='.position', times=array([ 0.   ,  0.012, …"
      ]
     },
     "execution_count": 52,
     "metadata": {},
     "output_type": "execute_result"
    }
   ],
   "source": [
    "import pythreejs as pj\n",
    "from IPython.display import display\n",
    "\n",
    "# Paths to the cubemap images (6 faces)\n",
    "folder = \"space_cubemap\"\n",
    "texture_paths = [\n",
    "    f\"../figures/{folder}/px.png\",  # Positive X\n",
    "    f\"../figures/{folder}/nx.png\",  # Negative X\n",
    "    f\"../figures/{folder}/py.png\",  # Positive Y\n",
    "    f\"../figures/{folder}/ny.png\",  # Negative Y\n",
    "    f\"../figures/{folder}/pz.png\",  # Positive Z\n",
    "    f\"../figures/{folder}/nz.png\",  # Negative Z\n",
    "]\n",
    "\n",
    "box_sides = 500\n",
    "scene = pj.Scene()\n",
    "\n",
    "camera = pj.PerspectiveCamera(position=[0, 0, 5], up=[0, 1, 0], aspect=1)\n",
    "camera.lookAt([0, 0, 0])\n",
    "\n",
    "# Create a CubeGeometry to represent the skybox\n",
    "geometry = pj.BoxGeometry(width=box_sides, height=box_sides, depth=box_sides)\n",
    "\n",
    "materials = []\n",
    "for path in texture_paths:\n",
    "    texture = pj.ImageTexture(imageUri=path)\n",
    "    material = pj.MeshBasicMaterial(map=texture, side='BackSide')\n",
    "    materials.append(material)\n",
    "\n",
    "skybox = pj.Mesh(geometry, materials)\n",
    "scene.add(skybox)\n",
    "\n",
    "cubesat = pj.Mesh(\n",
    "    pj.BoxGeometry(1, 1, 1),\n",
    "    pj.MeshStandardMaterial(color='red')\n",
    ")\n",
    "the_added_mass = pj.Mesh(\n",
    "    pj.BoxGeometry(0.1, 0.1, 0.1),\n",
    "    pj.MeshStandardMaterial(color=\"green\")\n",
    ")\n",
    "\n",
    "cubesat.position = tuple(b_r_s)\n",
    "the_added_mass.position = tuple(b_r_s + .5*np.ones((3,)))\n",
    "\n",
    "axis_helper = pj.AxesHelper(size=5)\n",
    "axis_helper.position = cubesat.position\n",
    "axis_helper.quaternion = cubesat.quaternion\n",
    "\n",
    "pivot = pj.Group()\n",
    "pivot.add(cubesat)\n",
    "if with_added_mass: pivot.add(the_added_mass)\n",
    "pivot.add(axis_helper)\n",
    "\n",
    "pivot_position_track = pj.VectorKeyframeTrack(name=\".position\", times = time, values = positions)\n",
    "pivot_rotation_track = pj.QuaternionKeyframeTrack(name = \".quaternion\", times = time, values = rotations)\n",
    "pivot_clip = pj.AnimationClip(tracks = [pivot_position_track, pivot_rotation_track])\n",
    "pivot_action = pj.AnimationAction(pj.AnimationMixer(pivot), pivot_clip, pivot)\n",
    "scene.add(pivot)\n",
    "\n",
    "view_width = 800\n",
    "view_height = 600\n",
    "camera = pj.PerspectiveCamera(position=[10, 6, 10], aspect=view_width/view_height)\n",
    "\n",
    "ambient_light = pj.AmbientLight(color='#ffffff', intensity=1.0)\n",
    "key_light = pj.DirectionalLight(position=[0, 10, 0])\n",
    "scene.add(key_light)\n",
    "scene.add(ambient_light)\n",
    "\n",
    "renderer = pj.Renderer(camera=camera, scene=scene, width=view_width, height=view_height)\n",
    "controls = pj.OrbitControls(controlling=camera)\n",
    "renderer.controls = [controls]\n",
    "\n",
    "display(renderer)\n",
    "pivot_action"
   ]
  }
 ],
 "metadata": {
  "kernelspec": {
   "display_name": "Python 3 (ipykernel)",
   "language": "python",
   "name": "python3"
  },
  "language_info": {
   "codemirror_mode": {
    "name": "ipython",
    "version": 3
   },
   "file_extension": ".py",
   "mimetype": "text/x-python",
   "name": "python",
   "nbconvert_exporter": "python",
   "pygments_lexer": "ipython3",
   "version": "3.11.11"
  }
 },
 "nbformat": 4,
 "nbformat_minor": 4
}
