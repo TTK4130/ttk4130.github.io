{
 "cells": [
  {
   "cell_type": "markdown",
   "metadata": {},
   "source": [
    "# Code handout - Assignment 4 - Satellite\n",
    "\n",
    "In this assignment, you will write a small simulator for a satellite in orbit.\n",
    "In order to simulate and render the satellite, you will need to write some code.\n",
    "However, some of the code is already written for you (mostly the visualization).\n",
    "\n",
    "The handout is split into two sections; the pre-written visualization code and the simulation code where some parts are missing.\n",
    "It is not strictly necessary to understand the first section, but since you will be editing the codee in the second section,\n",
    "it may be beneficial to figure out how it works.\n",
    "\n",
    "Good luck!"
   ]
  },
  {
   "cell_type": "markdown",
   "metadata": {},
   "source": [
    "## Zeroth section: imports\n",
    "\n",
    "For this assingment we will need:\n",
    "- NumPy for vectors/matrices\n",
    "- Matplotlib for animating the satellite\n",
    "- SciPy for solving the ODEs and for rotation matrices\n",
    "\n",
    "You may want to add more imports, but it should be necessary to do everything with this."
   ]
  },
  {
   "cell_type": "code",
   "execution_count": 1,
   "metadata": {},
   "outputs": [],
   "source": [
    "import numpy as np\n",
    "import matplotlib.pyplot as plt\n",
    "\n",
    "from scipy.integrate import solve_ivp\n",
    "from scipy.spatial.transform import Rotation"
   ]
  },
  {
   "cell_type": "markdown",
   "metadata": {},
   "source": [
    "## First section: visualization\n",
    "\n",
    "It is not necessary to edit this code.\n",
    "\n",
    "`drawFrame` will draw the rotated reference frame of the satellite,\n",
    "`drawBox` will draw the actual satellite\n",
    "and `make_animation_update_function` will give us the `update`-function that will animate the movement."
   ]
  },
  {
   "cell_type": "code",
   "execution_count": 2,
   "metadata": {},
   "outputs": [],
   "source": [
    "\n",
    "def draw_frame(ax, origin, R, scale, label, color):\n",
    "    \"\"\"Draws a coordinate frame at a given origin with rotation matrix R.\"\"\"\n",
    "    x_axis = scale * R[:, 0]\n",
    "    y_axis = scale * R[:, 1]\n",
    "    z_axis = scale * R[:, 2]\n",
    "    \n",
    "    ax.quiver(*origin, *(x_axis), color=color[0], label=f'{label}_x')\n",
    "    ax.quiver(*origin, *(y_axis), color=color[1], label=f'{label}_y')\n",
    "    ax.quiver(*origin, *(z_axis), color=color[2], label=f'{label}_z')"
   ]
  },
  {
   "cell_type": "code",
   "execution_count": 3,
   "metadata": {},
   "outputs": [],
   "source": [
    "def draw_box(ax, center, R, size):\n",
    "    \"\"\"Draws a box with given size and orientation.\"\"\"\n",
    "    # Define box vertices (cube centered at origin)\n",
    "    l, w, h = size\n",
    "    vertices = np.array([\n",
    "        [-l/2, -w/2, -h/2],\n",
    "        [ l/2, -w/2, -h/2],\n",
    "        [ l/2,  w/2, -h/2],\n",
    "        [-l/2,  w/2, -h/2],\n",
    "        [-l/2, -w/2,  h/2],\n",
    "        [ l/2, -w/2,  h/2],\n",
    "        [ l/2,  w/2,  h/2],\n",
    "        [-l/2,  w/2,  h/2],\n",
    "    ]).T\n",
    "\n",
    "    # Transform vertices by rotation and translation\n",
    "    vertices = R @ vertices + center[:, np.newaxis]\n",
    "\n",
    "    # Define the faces of the box\n",
    "    faces = [\n",
    "        [0, 1, 2, 3],  # Bottom face\n",
    "        [4, 5, 6, 7],  # Top face\n",
    "        [0, 1, 5, 4],  # Front face\n",
    "        [2, 3, 7, 6],  # Back face\n",
    "        [0, 3, 7, 4],  # Left face\n",
    "        [1, 2, 6, 5],  # Right face\n",
    "    ]\n",
    "\n",
    "    # Plot each face\n",
    "    for face in faces:\n",
    "        ax.plot_trisurf(\n",
    "            vertices[0, face],\n",
    "            vertices[1, face],\n",
    "            vertices[2, face],\n",
    "            color=[0.5, 0.5, 0.5, 0.6],\n",
    "            shade=True\n",
    "        )"
   ]
  },
  {
   "cell_type": "code",
   "execution_count": 4,
   "metadata": {},
   "outputs": [],
   "source": [
    "def make_animation_update_function(ax, states, times, b_r_s, with_added_mass = False):\n",
    "    \"\"\"Wraps `update` in a scope containing the relevant variables to animate the satellite trajectory\n",
    "    using only the video frame number `frame`.\"\"\"\n",
    "    def update(frame):\n",
    "        ax.cla()\n",
    "        ax.set_xlim([1, 4])\n",
    "        ax.set_ylim([1, 4])\n",
    "        ax.set_zlim([1, 4])\n",
    "        \n",
    "        state_animate = states[frame]\n",
    "        i_r_c = state_animate[0:3] * 1e-7\n",
    "        q = state_animate[3:7]\n",
    "        vel = state_animate[7:10]\n",
    "        ang_vel = state_animate[10:13]\n",
    "        q = q / np.linalg.norm(q)  # Normalize quaternion\n",
    "        R_mat = Rotation.from_quat(q).as_matrix()\n",
    "\n",
    "        if with_added_mass:\n",
    "            i_r_o = i_r_c + R_mat @ b_r_s\n",
    "        else:\n",
    "            i_r_o = i_r_c\n",
    "        \n",
    "        # Draw satellite and frame\n",
    "        draw_box(ax, i_r_o, R_mat, size=(1, 1, 1))\n",
    "        \n",
    "        draw_frame(ax, (1.5, 1.5, 1.5), \n",
    "                   Rotation.from_euler(\"zyx\", (0, 0, 0)).as_matrix(), \n",
    "                   scale=1, label=\"Reference\", color=[\"k\", \"k\", \"k\"])\n",
    "        draw_frame(ax, i_r_o, R_mat, \n",
    "                   scale=1, label='Body', color=['r', 'g', 'b'])\n",
    "\n",
    "        ax.quiver(*i_r_o, *(R_mat @ ang_vel), \n",
    "                  length=1, pivot=\"middle\", color=\"k\")\n",
    "\n",
    "        ax.set_title(f\"Time: {times[frame]:.2f}s\")\n",
    "        \n",
    "        return ax,\n",
    "    return update"
   ]
  },
  {
   "cell_type": "markdown",
   "metadata": {},
   "source": [
    "## Satellite dynamics\n",
    "\n",
    "In order to simulate the dynamics of the satellite, we need the ODEs for the state variables.\n",
    "The `make_satellite_dynamics`-function will return exactly this.\n",
    "However, there are some expressions missing that you will have to fill in!"
   ]
  },
  {
   "cell_type": "code",
   "execution_count": 5,
   "metadata": {},
   "outputs": [],
   "source": [
    "def Omega_mx(omega_vec):\n",
    "    wx = omega_vec[0]\n",
    "    wy = omega_vec[1]\n",
    "    wz = omega_vec[2]\n",
    "\n",
    "    return np.matrix([\n",
    "        [0, -wx, -wy, -wz],\n",
    "        [wx, 0, wz, wy],\n",
    "        [wy, -wz, 0, wx],\n",
    "        [wz, wy, -wx, 0]\n",
    "    ])\n",
    "\n",
    "def make_satellite_dynamics(b_M_c, G, m_T):\n",
    "    # Mimics partial function application binding b_M_c, G and m_T\n",
    "    def satellite_dynamics(t, x):\n",
    "        i_r_c = x[0:3]\n",
    "        q = x[3:7]\n",
    "        i_v_c = x[7:10]\n",
    "        b_omega_ib = x[10:13]\n",
    "\n",
    "        # Kinematics\n",
    "        i_r_c_dot = i_v_c[:]\n",
    "        q_dot = 0.5 * Omega_mx(b_omega_ib) @ q\n",
    "\n",
    "        # Dynamics\n",
    "        i_v_c_dot = - (G * m_T / np.linalg.norm(i_r_c)**2) * (i_r_c / np.linalg.norm(i_r_c))\n",
    "        b_omega_ib_dot = np.linalg.inv(b_M_c) @ (\n",
    "            np.cross(-b_omega_ib, b_M_c @ b_omega_ib)\n",
    "        )\n",
    "\n",
    "        state_dot = np.zeros_like(x)\n",
    "        state_dot[0:3] = i_r_c_dot[:]\n",
    "        state_dot[3:7] = q_dot[:]\n",
    "        state_dot[7:10] = i_v_c_dot[:]\n",
    "        state_dot[10:13] = b_omega_ib_dot[:]\n",
    "\n",
    "        return state_dot\n",
    "\n",
    "    return satellite_dynamics"
   ]
  },
  {
   "cell_type": "markdown",
   "metadata": {},
   "source": [
    "### Simulation\n",
    "\n",
    "Now, we can simulate the satellite trajectory!"
   ]
  },
  {
   "cell_type": "code",
   "execution_count": 37,
   "metadata": {},
   "outputs": [],
   "source": [
    "# Constants\n",
    "earth_radius = 6356e+3\n",
    "orbit_height = 36000e+3\n",
    "azi = np.pi / 4\n",
    "dec = np.pi / 4\n",
    "# Initial state\n",
    "pos = (earth_radius + orbit_height) * \\\n",
    "    np.array([\n",
    "        np.sin(dec) * np.cos(azi),\n",
    "        np.sin(dec) * np.sin(azi),\n",
    "        np.cos(dec)\n",
    "        ])\n",
    "q = Rotation.random().as_quat()\n",
    "vel = np.zeros((3,))\n",
    "ang_vel = np.array([np.deg2rad(60), np.deg2rad(80), np.deg2rad(100)])\n",
    "state = np.hstack((pos, q, vel, ang_vel))\n",
    "\n",
    "# Parameters\n",
    "m_T = 5.972e+24\n",
    "G = 6.67e-11\n",
    "l = 0.5\n",
    "rho = 1\n",
    "m = rho * l**3\n",
    "b_M_c = (m * (l**2) / 6) * np.eye(3)\n",
    "\n",
    "with_added_mass = False\n",
    "\n",
    "if with_added_mass:\n",
    "    m_added = 0.1\n",
    "    b_r_0 = l * np.ones((3,))\n",
    "    b_r_s = -m_added / (m + m_added) * b_r_0\n",
    "    b_M_o = (m * (l**2) / 6) * np.eye(3) \\\n",
    "        + m_added * (np.linalg.norm(b_r_0)**2 * np.eye(3) - np.outer(b_r_0, b_r_0))\n",
    "    b_M_c = b_M_o - (m + m_added) * (np.linalg.norm(b_r_s)**2 * np.eye(3) - np.outer(b_r_s, b_r_s))\n",
    "else:\n",
    "    b_r_s = np.zeros((3,))\n",
    "\n",
    "satellite_dynamics = make_satellite_dynamics(b_M_c, G, m_T)\n",
    "time_final = 10\n",
    "result = solve_ivp(satellite_dynamics, (0, time_final), state, \n",
    "                    t_eval = np.linspace(0, time_final, num=13037))\n",
    "time = result.t\n",
    "state_trajectory = result.y\n",
    "pos = (1e-7 * state_trajectory[0:3]).T\n",
    "#i_r_o = i_r_c + R_mat @ b_r_s\n",
    "rot = state_trajectory[3:7].T"
   ]
  },
  {
   "cell_type": "code",
   "execution_count": 7,
   "metadata": {},
   "outputs": [
    {
     "data": {
      "text/plain": [
       "array([-0.22222222, -0.22222222, -0.22222222])"
      ]
     },
     "execution_count": 7,
     "metadata": {},
     "output_type": "execute_result"
    }
   ],
   "source": [
    "b_r_s"
   ]
  },
  {
   "cell_type": "code",
   "execution_count": 8,
   "metadata": {},
   "outputs": [
    {
     "data": {
      "text/plain": [
       "array([[2.1178    , 2.1178    , 2.1178    , 2.1178    , 2.1178    ,\n",
       "        2.1178    , 2.1178    , 2.1178    , 2.1178    , 2.1178    ],\n",
       "       [2.1178    , 2.1178    , 2.1178    , 2.1178    , 2.1178    ,\n",
       "        2.1178    , 2.1178    , 2.1178    , 2.1178    , 2.1178    ],\n",
       "       [2.99502148, 2.99502148, 2.99502148, 2.99502148, 2.99502148,\n",
       "        2.99502148, 2.99502148, 2.99502148, 2.99502148, 2.99502148]])"
      ]
     },
     "execution_count": 8,
     "metadata": {},
     "output_type": "execute_result"
    }
   ],
   "source": [
    "pos.T[:, :10]"
   ]
  },
  {
   "cell_type": "code",
   "execution_count": 9,
   "metadata": {},
   "outputs": [
    {
     "data": {
      "text/plain": [
       "array([[-0.00540996, -0.00644456, -0.00747933, -0.00851425, -0.00954934,\n",
       "        -0.01058459, -0.01162   , -0.01265557, -0.0136913 , -0.01472718],\n",
       "       [ 0.84517742,  0.84576923,  0.84636037,  0.84695082,  0.84754061,\n",
       "         0.84812972,  0.84871815,  0.84930591,  0.84989299,  0.8504794 ],\n",
       "       [ 0.38640752,  0.38585905,  0.38530964,  0.3847593 ,  0.38420802,\n",
       "         0.38365581,  0.38310266,  0.38254858,  0.38199357,  0.38143762],\n",
       "       [ 0.36923581,  0.36961894,  0.37000231,  0.37038594,  0.37076981,\n",
       "         0.37115394,  0.37153831,  0.37192293,  0.37230781,  0.37269293]])"
      ]
     },
     "execution_count": 9,
     "metadata": {},
     "output_type": "execute_result"
    }
   ],
   "source": [
    "rot.T[:, :10]"
   ]
  },
  {
   "cell_type": "code",
   "execution_count": 10,
   "metadata": {},
   "outputs": [
    {
     "data": {
      "text/plain": [
       "array([[2.20709075, 2.20737622, 2.20765994, 2.20794192, 2.20822214,\n",
       "        2.20850062, 2.20877736, 2.20905234, 2.20932557, 2.20959705],\n",
       "       [1.7545362 , 1.75482449, 1.75511474, 1.75540694, 1.7557011 ,\n",
       "        1.75599719, 1.75629523, 1.75659519, 1.75689709, 1.7572009 ],\n",
       "       [3.0856566 , 3.08652574, 3.08739432, 3.08826233, 3.08912976,\n",
       "        3.0899966 , 3.09086285, 3.0917285 , 3.09259354, 3.09345797]])"
      ]
     },
     "execution_count": 10,
     "metadata": {},
     "output_type": "execute_result"
    }
   ],
   "source": [
    "cube_center.T[:, :10]"
   ]
  },
  {
   "cell_type": "markdown",
   "metadata": {},
   "source": [
    "### Animation\n",
    "\n",
    "Task 1c asks you to see the difference between the two cases (with and without the added mass), so we must animate the satellite trajectory.\n",
    "We do this using Matplotlib's `FuncAnimation` with a proper update-function which generates each frame."
   ]
  },
  {
   "cell_type": "code",
   "execution_count": 11,
   "metadata": {},
   "outputs": [
    {
     "data": {
      "image/png": "[encoded data removed]",
      "text/plain": [
       "<Figure size 640x480 with 1 Axes>"
      ]
     },
     "metadata": {},
     "output_type": "display_data"
    }
   ],
   "source": [
    "from matplotlib.animation import FuncAnimation\n",
    "from IPython.display import HTML\n",
    "\n",
    "# Animation\n",
    "fig = plt.figure()\n",
    "ax = fig.add_subplot(111, projection='3d')\n",
    "ax.set_aspect(\"equal\")\n",
    "update = make_animation_update_function(ax, state_trajectory.T, time, b_r_s, with_added_mass=with_added_mass)\n",
    "\n",
    "# Uncomment to show animation\n",
    "#anim = FuncAnimation(fig, update, frames=len(time), interval=100, blit=False)\n",
    "#HTML(anim.to_jshtml())  # Displays animation"
   ]
  },
  {
   "cell_type": "markdown",
   "metadata": {},
   "source": [
    "### Bonus\n",
    "\n",
    "The current method for distinguishing the cases is to animate it.\n",
    "Can you find a simpler way to get that information from the data we have simulated?"
   ]
  },
  {
   "cell_type": "code",
   "execution_count": 40,
   "metadata": {},
   "outputs": [
    {
     "data": {
      "application/vnd.jupyter.widget-view+json": {
       "model_id": "49273a834249449f8fe41f7553c06350",
       "version_major": 2,
       "version_minor": 0
      },
      "text/plain": [
       "Renderer(camera=PerspectiveCamera(aspect=1.3333333333333333, position=(10.0, 6.0, 10.0), projectionMatrix=(1.0…"
      ]
     },
     "execution_count": 40,
     "metadata": {},
     "output_type": "execute_result"
    }
   ],
   "source": [
    "import pythreejs as pj\n",
    "from IPython.display import display\n",
    "\n",
    "# Paths to the cubemap images (6 faces)\n",
    "folder = \"space_cubemap_high_res\"\n",
    "texture_paths = [\n",
    "    f\"./{folder}/px.png\",  # Positive X\n",
    "    f\"./{folder}/nx.png\",  # Negative X\n",
    "    f\"./{folder}/py.png\",  # Positive Y\n",
    "    f\"./{folder}/ny.png\",  # Negative Y\n",
    "    f\"./{folder}/pz.png\",  # Positive Z\n",
    "    f\"./{folder}/nz.png\",  # Negative Z\n",
    "]\n",
    "\n",
    "box_sides = 500\n",
    "scene = pj.Scene()\n",
    "\n",
    "camera = pj.PerspectiveCamera(position=[0, 0, 5], up=[0, 1, 0], aspect=1)\n",
    "camera.lookAt([0, 0, 0])\n",
    "\n",
    "# Create a CubeGeometry to represent the skybox\n",
    "geometry = pj.BoxGeometry(width=box_sides, height=box_sides, depth=box_sides)\n",
    "\n",
    "materials = []\n",
    "for path in texture_paths:\n",
    "    texture = pj.ImageTexture(imageUri=path)\n",
    "    material = pj.MeshBasicMaterial(map=texture, side='BackSide')\n",
    "    materials.append(material)\n",
    "\n",
    "skybox = pj.Mesh(geometry, materials)\n",
    "scene.add(skybox)\n",
    "\n",
    "cubesat = pj.Mesh(\n",
    "    pj.BoxGeometry(1, 1, 1),\n",
    "    pj.MeshStandardMaterial(color='gray')\n",
    ")\n",
    "the_added_mass = pj.Mesh(\n",
    "    pj.BoxGeometry(0.1, .1, .1),\n",
    "    pj.MeshStandardMaterial(color=\"green\")\n",
    ")\n",
    "\n",
    "cubesat.position = tuple(b_r_s)\n",
    "the_added_mass.position = tuple(b_r_s + .5*np.ones((3,)))\n",
    "axis_helper = pj.AxesHelper(size=5)\n",
    "axis_helper.position = cubesat.position\n",
    "axis_helper.quaternion = cubesat.quaternion\n",
    "pivot = pj.Group()\n",
    "pivot.add(cubesat)\n",
    "pivot.add(the_added_mass)\n",
    "pivot.add(axis_helper)\n",
    "\n",
    "\n",
    "cubesat_position_track = pj.VectorKeyframeTrack(\n",
    "    name=\".position\", times = time, values = (1e-7 * state_trajectory[0:3, :].T))\n",
    "#cubesat_position_track = pj.VectorKeyframeTrack(\n",
    "#    name=\".position\", times = time, values = (cube_center.T))\n",
    "cubesat_rotation_track = pj.QuaternionKeyframeTrack(\n",
    "    name = \".quaternion\", times = time, values = rot)\n",
    "\n",
    "cubesat_clip = pj.AnimationClip(tracks = [cubesat_position_track, cubesat_rotation_track])\n",
    "cubesat_action = pj.AnimationAction(pj.AnimationMixer(pivot), cubesat_clip, pivot)\n",
    "\n",
    "scene.add(pivot)\n",
    "\n",
    "view_width = 800\n",
    "view_height = 600\n",
    "camera = pj.PerspectiveCamera(position=[10, 6, 10], aspect=view_width/view_height)\n",
    "\n",
    "ambient_light = pj.AmbientLight(color='#ffffff', intensity=1.0)\n",
    "key_light = pj.DirectionalLight(position=[0, 10, 0])\n",
    "scene.add(key_light)\n",
    "scene.add(ambient_light)\n",
    "\n",
    "renderer = pj.Renderer(camera=camera, scene=scene, width=view_width, height=view_height)\n",
    "controls = pj.OrbitControls(controlling=camera)\n",
    "#cubesat_controls = pj.OrbitControls(controlling=cubesat)\n",
    "renderer.controls = [controls]\n",
    "\n",
    "renderer"
   ]
  },
  {
   "cell_type": "code",
   "execution_count": 41,
   "metadata": {},
   "outputs": [
    {
     "data": {
      "application/vnd.jupyter.widget-view+json": {
       "model_id": "1da969448c00443cb7eac4b4418e702d",
       "version_major": 2,
       "version_minor": 0
      },
      "text/plain": [
       "AnimationAction(clip=AnimationClip(duration=10.0, tracks=(VectorKeyframeTrack(name='.position', times=array([0…"
      ]
     },
     "execution_count": 41,
     "metadata": {},
     "output_type": "execute_result"
    }
   ],
   "source": [
    "cubesat_action"
   ]
  }
 ],
 "metadata": {
  "kernelspec": {
   "display_name": "Python 3 (ipykernel)",
   "language": "python",
   "name": "python3"
  },
  "language_info": {
   "codemirror_mode": {
    "name": "ipython",
    "version": 3
   },
   "file_extension": ".py",
   "mimetype": "text/x-python",
   "name": "python",
   "nbconvert_exporter": "python",
   "pygments_lexer": "ipython3",
   "version": "3.11.11"
  }
 },
 "nbformat": 4,
 "nbformat_minor": 4
}
