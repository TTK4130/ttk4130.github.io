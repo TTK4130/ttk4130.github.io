{
 "cells": [
  {
   "cell_type": "markdown",
   "metadata": {},
   "source": [
    "# Code Handout - Assignment 5 - Ball and Beam\n",
    "## Solution"
   ]
  },
  {
   "cell_type": "code",
   "execution_count": 19,
   "metadata": {},
   "outputs": [],
   "source": [
    "import numpy as np\n",
    "import matplotlib.pyplot as plt\n",
    "from scipy.integrate import solve_ivp"
   ]
  },
  {
   "cell_type": "markdown",
   "metadata": {},
   "source": [
    "## TODO:\n",
    "\n",
    "Relevant matlab files:\n",
    "\n",
    "- `BallAndBeamSymbolicTemplate.m` -- symbolic calculations for task 1e, should be completed by the student\n",
    "- `BallAndBeamODEMatrices.m` -- routine used in the state-space model together with the PD-law, backbone for full model which the student should make\n",
    "- `BallAndBeamSimulation.m` -- optional, should be completed by the student\n",
    "\n",
    "Critical\n",
    "\n",
    "- Make the symbolic template, this is most of the code work\n",
    "- ???"
   ]
  },
  {
   "cell_type": "code",
   "execution_count": 20,
   "metadata": {},
   "outputs": [],
   "source": [
    "import sympy as sm\n",
    "from sympy import vector\n",
    "from IPython.display import display_latex\n",
    "\n",
    "# Defining the necessary symbols\n",
    "\n",
    "J, M, R, g, To = sm.symbols(\"J M R g T_o\")\n",
    "x, theta = sm.symbols(\"x theta\")\n",
    "dx = x.diff()\n",
    "dtheta = theta.diff()\n",
    "dx, dtheta = sm.symbols(\"dx d\\\\theta\")\n",
    "\n",
    "q = sm.Matrix((x, theta))\n",
    "dq = sm.Matrix((dx, dtheta))\n",
    "\n",
    "p = x * sm.Matrix([sm.cos(theta), sm.sin(theta)])\\\n",
    "    + R * sm.Matrix([-sm.sin(theta), sm.cos(theta)])\n",
    "\n",
    "linear_energy_beam = 0.5 * J * dtheta**2\n",
    "\n",
    "dp = sm.Matrix.jacobian(p, q)\n",
    "linear_energy_ball = (0.5 * M * (dq.T @ (dp.T @ dp) @ dq))[0, 0]\n",
    "\n",
    "I = (2/5) * M * R**2\n",
    "omega = dtheta + dx / R\n",
    "\n",
    "rotational_energy_ball = 0.5 * I * omega**2\n",
    "\n",
    "T = sm.simplify(linear_energy_beam + rotational_energy_ball + linear_energy_ball)\n",
    "\n",
    "V = M * g * p[1]\n",
    "\n",
    "Lagrangian = sm.Matrix([T - V])\n",
    "\n",
    "Lagrangian_q = sm.simplify(sm.Matrix.jacobian(Lagrangian, q))\n",
    "Lagrangian_qdq = sm.simplify(sm.Matrix.jacobian(Lagrangian_q, dq))\n",
    "Lagrangian_dq = sm.simplify(sm.Matrix.jacobian(Lagrangian, dq))\n",
    "Lagrangian_dqdq = sm.simplify(sm.Matrix.jacobian(Lagrangian_dq, dq))\n",
    "\n",
    "W = Lagrangian_dqdq\n",
    "RHS = sm.Matrix([0, To]) + sm.simplify(Lagrangian_q.T - Lagrangian_qdq @ dq)\n",
    "\n",
    "state = sm.Matrix([q, dq])\n",
    "param = sm.Matrix([J, M, R, g])\n"
   ]
  },
  {
   "cell_type": "code",
   "execution_count": 21,
   "metadata": {},
   "outputs": [
    {
     "data": {
      "text/latex": [
       "$\\displaystyle \\left[\\begin{matrix}x\\\\\\theta\\end{matrix}\\right]$"
      ]
     },
     "metadata": {},
     "output_type": "display_data"
    },
    {
     "data": {
      "text/latex": [
       "$\\displaystyle \\left[\\begin{matrix}dx\\\\d\\theta\\end{matrix}\\right]$"
      ]
     },
     "metadata": {},
     "output_type": "display_data"
    },
    {
     "data": {
      "text/latex": [
       "$\\displaystyle \\left[\\begin{matrix}- R \\sin{\\left(\\theta \\right)} + x \\cos{\\left(\\theta \\right)}\\\\R \\cos{\\left(\\theta \\right)} + x \\sin{\\left(\\theta \\right)}\\end{matrix}\\right]$"
      ]
     },
     "metadata": {},
     "output_type": "display_data"
    }
   ],
   "source": [
    "display_latex(q)\n",
    "display_latex(dq)\n",
    "display_latex(p)"
   ]
  },
  {
   "cell_type": "code",
   "execution_count": 22,
   "metadata": {},
   "outputs": [
    {
     "data": {
      "text/latex": [
       "$\\displaystyle 0.5 J d\\theta^{2}$"
      ]
     },
     "metadata": {},
     "output_type": "display_data"
    },
    {
     "data": {
      "text/latex": [
       "$\\displaystyle \\left[\\begin{matrix}\\cos{\\left(\\theta \\right)} & - R \\cos{\\left(\\theta \\right)} - x \\sin{\\left(\\theta \\right)}\\\\\\sin{\\left(\\theta \\right)} & - R \\sin{\\left(\\theta \\right)} + x \\cos{\\left(\\theta \\right)}\\end{matrix}\\right]$"
      ]
     },
     "metadata": {},
     "output_type": "display_data"
    },
    {
     "data": {
      "text/latex": [
       "$\\displaystyle M \\left(0.5 R^{2} d\\theta^{2} - 1.0 R d\\theta dx + 0.5 d\\theta^{2} x^{2} + 0.5 dx^{2}\\right)$"
      ]
     },
     "metadata": {},
     "output_type": "display_data"
    }
   ],
   "source": [
    "display_latex(linear_energy_beam)\n",
    "display_latex(dp)\n",
    "display_latex(sm.simplify(linear_energy_ball))"
   ]
  },
  {
   "cell_type": "code",
   "execution_count": 23,
   "metadata": {},
   "outputs": [
    {
     "data": {
      "text/latex": [
       "$\\displaystyle 0.4 M R^{2}$"
      ]
     },
     "metadata": {},
     "output_type": "display_data"
    },
    {
     "data": {
      "text/latex": [
       "$\\displaystyle d\\theta + \\frac{dx}{R}$"
      ]
     },
     "metadata": {},
     "output_type": "display_data"
    },
    {
     "data": {
      "text/latex": [
       "$\\displaystyle 0.2 M R^{2} \\left(d\\theta + \\frac{dx}{R}\\right)^{2}$"
      ]
     },
     "metadata": {},
     "output_type": "display_data"
    }
   ],
   "source": [
    "display_latex(I)\n",
    "display_latex(omega)\n",
    "display_latex(rotational_energy_ball)"
   ]
  },
  {
   "cell_type": "code",
   "execution_count": 24,
   "metadata": {},
   "outputs": [
    {
     "data": {
      "text/latex": [
       "$\\displaystyle 0.5 J d\\theta^{2} + 0.7 M R^{2} d\\theta^{2} - 0.6 M R d\\theta dx + 0.5 M d\\theta^{2} x^{2} + 0.7 M dx^{2}$"
      ]
     },
     "metadata": {},
     "output_type": "display_data"
    },
    {
     "data": {
      "text/latex": [
       "$\\displaystyle M g \\left(R \\cos{\\left(\\theta \\right)} + x \\sin{\\left(\\theta \\right)}\\right)$"
      ]
     },
     "metadata": {},
     "output_type": "display_data"
    },
    {
     "data": {
      "text/latex": [
       "$\\displaystyle \\left[\\begin{matrix}0.5 J d\\theta^{2} - M g \\left(R \\cos{\\left(\\theta \\right)} + x \\sin{\\left(\\theta \\right)}\\right) + 0.2 M \\left(R d\\theta + dx\\right)^{2} + 0.5 M \\left(d\\theta \\left(- R dx + d\\theta \\left(R^{2} + x^{2}\\right)\\right) - dx \\left(R d\\theta - dx\\right)\\right)\\end{matrix}\\right]$"
      ]
     },
     "metadata": {},
     "output_type": "display_data"
    }
   ],
   "source": [
    "display_latex(sm.expand(T))\n",
    "display_latex(V)\n",
    "display_latex(Lagrangian)"
   ]
  },
  {
   "cell_type": "code",
   "execution_count": 25,
   "metadata": {},
   "outputs": [
    {
     "data": {
      "text/latex": [
       "$\\displaystyle \\left[\\begin{matrix}M \\left(1.0 d\\theta^{2} x - g \\sin{\\left(\\theta \\right)}\\right) & M g \\left(R \\sin{\\left(\\theta \\right)} - x \\cos{\\left(\\theta \\right)}\\right)\\end{matrix}\\right]$"
      ]
     },
     "metadata": {},
     "output_type": "display_data"
    },
    {
     "data": {
      "text/latex": [
       "$\\displaystyle \\left[\\begin{matrix}M \\left(- 0.6 R d\\theta + 1.4 dx\\right) & 1.0 J d\\theta + 1.4 M R^{2} d\\theta - 0.6 M R dx + 1.0 M d\\theta x^{2}\\end{matrix}\\right]$"
      ]
     },
     "metadata": {},
     "output_type": "display_data"
    },
    {
     "data": {
      "text/latex": [
       "$\\displaystyle \\left[\\begin{matrix}0 & 2.0 M d\\theta x\\\\0 & 0\\end{matrix}\\right]$"
      ]
     },
     "metadata": {},
     "output_type": "display_data"
    },
    {
     "data": {
      "text/latex": [
       "$\\displaystyle \\left[\\begin{matrix}1.4 M & - 0.6 M R\\\\- 0.6 M R & 1.0 J + 1.4 M R^{2} + 1.0 M x^{2}\\end{matrix}\\right]$"
      ]
     },
     "metadata": {},
     "output_type": "display_data"
    }
   ],
   "source": [
    "display_latex(Lagrangian_q)\n",
    "display_latex(Lagrangian_dq)\n",
    "display_latex(Lagrangian_qdq)\n",
    "display_latex(Lagrangian_dqdq)"
   ]
  },
  {
   "cell_type": "code",
   "execution_count": 26,
   "metadata": {},
   "outputs": [
    {
     "data": {
      "text/latex": [
       "$\\displaystyle \\left[\\begin{matrix}1.4 M & - 0.6 M R\\\\- 0.6 M R & 1.0 J + 1.4 M R^{2} + 1.0 M x^{2}\\end{matrix}\\right]$"
      ]
     },
     "metadata": {},
     "output_type": "display_data"
    },
    {
     "data": {
      "text/latex": [
       "$\\displaystyle \\left[\\begin{matrix}- 1.0 M \\left(d\\theta^{2} x + g \\sin{\\left(\\theta \\right)}\\right)\\\\M g \\left(R \\sin{\\left(\\theta \\right)} - x \\cos{\\left(\\theta \\right)}\\right) + T_{o}\\end{matrix}\\right]$"
      ]
     },
     "metadata": {},
     "output_type": "display_data"
    }
   ],
   "source": [
    "display_latex(W)\n",
    "display_latex(RHS)"
   ]
  },
  {
   "cell_type": "code",
   "execution_count": 27,
   "metadata": {},
   "outputs": [],
   "source": [
    "lol = sm.lambdify((state, param), p, modules=\"numpy\")\n",
    "ball_position = sm.lambdify((state, param), p, modules=\"numpy\")\n",
    "get_W = sm.lambdify((state, param, To), W, modules=\"numpy\")\n",
    "get_RHS = sm.lambdify((state, param, To), RHS, modules=\"numpy\")"
   ]
  },
  {
   "cell_type": "code",
   "execution_count": 28,
   "metadata": {},
   "outputs": [
    {
     "data": {
      "text/latex": [
       "$\\displaystyle \\left[\\begin{matrix}- R \\sin{\\left(\\theta \\right)} + x \\cos{\\left(\\theta \\right)}\\\\R \\cos{\\left(\\theta \\right)} + x \\sin{\\left(\\theta \\right)}\\end{matrix}\\right]$"
      ]
     },
     "metadata": {},
     "output_type": "display_data"
    },
    {
     "name": "stdout",
     "output_type": "stream",
     "text": [
      "[[1.]\n",
      " [1.]]\n"
     ]
    }
   ],
   "source": [
    "display_latex(p)\n",
    "print(ball_position((1, 0, 0, 0), (0, 0, 1, 0)))"
   ]
  },
  {
   "cell_type": "code",
   "execution_count": 29,
   "metadata": {},
   "outputs": [
    {
     "data": {
      "text/latex": [
       "$\\displaystyle \\left[\\begin{matrix}1.4 M & - 0.6 M R\\\\- 0.6 M R & 1.0 J + 1.4 M R^{2} + 1.0 M x^{2}\\end{matrix}\\right]$"
      ]
     },
     "metadata": {},
     "output_type": "display_data"
    },
    {
     "name": "stdout",
     "output_type": "stream",
     "text": [
      "[[ 1.4 -0.6]\n",
      " [-0.6  2.4]]\n"
     ]
    }
   ],
   "source": [
    "display_latex(W)\n",
    "print(get_W((0, 0, 0, 0), (1, 1, 1, 0), 0))"
   ]
  },
  {
   "cell_type": "code",
   "execution_count": 30,
   "metadata": {},
   "outputs": [
    {
     "data": {
      "text/latex": [
       "$\\displaystyle \\left[\\begin{matrix}- 1.0 M \\left(d\\theta^{2} x + g \\sin{\\left(\\theta \\right)}\\right)\\\\M g \\left(R \\sin{\\left(\\theta \\right)} - x \\cos{\\left(\\theta \\right)}\\right) + T_{o}\\end{matrix}\\right]$"
      ]
     },
     "metadata": {},
     "output_type": "display_data"
    },
    {
     "name": "stdout",
     "output_type": "stream",
     "text": [
      "[[-1.]\n",
      " [-1.]]\n"
     ]
    }
   ],
   "source": [
    "display_latex(RHS)\n",
    "print(get_RHS((1, 0, 0, 1), (0, 1, 1, 1), 0))"
   ]
  },
  {
   "cell_type": "markdown",
   "metadata": {},
   "source": [
    "### Simulation"
   ]
  },
  {
   "cell_type": "code",
   "execution_count": 113,
   "metadata": {},
   "outputs": [],
   "source": [
    "from scipy.integrate import solve_ivp\n",
    "\n",
    "# Parameters and initial states\n",
    "time_final  = 15\n",
    "_J, _M, _R, _g = 1, 10, .25, 9.81\n",
    "parameters = np.array([_J, _M, _R, _g])\n",
    "_x, _th, _dx, _dth = 1, 1, 0, 0\n",
    "state = np.array([_x, _th, _dx, _dth])\n",
    "\n",
    "def make_ball_and_beam_dynamics(param):\n",
    "    def ball_and_beam_dynamics(time, state):\n",
    "        T = 200 * (state[0] - state[1]) + 70 * (state[2] - state[3])\n",
    "        W = get_W(state, param, T)\n",
    "        RHS = get_RHS(state, param, T)\n",
    "        acc = np.linalg.inv(W) @ RHS\n",
    "        return np.hstack(([state[2], state[3]], acc.reshape(2,)))\n",
    "    return ball_and_beam_dynamics\n",
    "    "
   ]
  },
  {
   "cell_type": "code",
   "execution_count": 114,
   "metadata": {},
   "outputs": [],
   "source": [
    "dyn = make_ball_and_beam_dynamics(parameters)"
   ]
  },
  {
   "cell_type": "code",
   "execution_count": 115,
   "metadata": {},
   "outputs": [
    {
     "data": {
      "text/plain": [
       "array([ 0.        ,  0.        , -6.27323766, -3.51801573])"
      ]
     },
     "execution_count": 115,
     "metadata": {},
     "output_type": "execute_result"
    }
   ],
   "source": [
    "dyn(0, state)"
   ]
  },
  {
   "cell_type": "code",
   "execution_count": 116,
   "metadata": {},
   "outputs": [
    {
     "data": {
      "text/plain": [
       "(4, 134)"
      ]
     },
     "execution_count": 116,
     "metadata": {},
     "output_type": "execute_result"
    }
   ],
   "source": [
    "res = solve_ivp(dyn, (0, time_final), state)\n",
    "res.y.shape"
   ]
  },
  {
   "cell_type": "code",
   "execution_count": 117,
   "metadata": {},
   "outputs": [
    {
     "data": {
      "image/png": "[encoded data removed]",
      "text/plain": [
       "<Figure size 640x480 with 1 Axes>"
      ]
     },
     "metadata": {},
     "output_type": "display_data"
    }
   ],
   "source": [
    "plt.plot(res.t, res.y[0, :], label=\"x\")\n",
    "plt.plot(res.t, res.y[1, :], label=\"th\")\n",
    "plt.legend()\n",
    "plt.show()"
   ]
  },
  {
   "cell_type": "code",
   "execution_count": 118,
   "metadata": {},
   "outputs": [],
   "source": [
    "ball_pos = np.zeros((3, res.y.shape[1]))\n",
    "ball_pos[0, :] = res.y[0, :]\n",
    "ball_pos[1, :] = (.25+0.05) * np.ones((len(res.t)))"
   ]
  },
  {
   "cell_type": "code",
   "execution_count": 119,
   "metadata": {},
   "outputs": [
    {
     "data": {
      "image/png": "[encoded data removed]",
      "text/plain": [
       "<Figure size 640x480 with 1 Axes>"
      ]
     },
     "metadata": {},
     "output_type": "display_data"
    }
   ],
   "source": [
    "plt.plot(res.t, ball_pos[0, :], label=\"x\")\n",
    "plt.plot(res.t, ball_pos[1, :], label=\"y\")\n",
    "plt.plot(res.t, ball_pos[2, :], label=\"z\")\n",
    "plt.legend()\n",
    "plt.show()"
   ]
  },
  {
   "cell_type": "code",
   "execution_count": 120,
   "metadata": {},
   "outputs": [],
   "source": [
    "from scipy.spatial.transform import Rotation as R\n",
    "\n",
    "beam_rot = R.from_euler(\"z\", res.y[1, :], degrees=True).as_quat()"
   ]
  },
  {
   "cell_type": "code",
   "execution_count": 121,
   "metadata": {},
   "outputs": [
    {
     "data": {
      "text/plain": [
       "array([ 0.00000000e+00,  0.00000000e+00,  8.72653550e-03,  9.99961923e-01,\n",
       "        0.00000000e+00,  0.00000000e+00,  8.72653491e-03,  9.99961923e-01,\n",
       "        0.00000000e+00,  0.00000000e+00,  8.72646359e-03,  9.99961924e-01,\n",
       "        0.00000000e+00,  0.00000000e+00,  8.71898996e-03,  9.99961989e-01,\n",
       "        0.00000000e+00,  0.00000000e+00,  7.73373176e-03,  9.99970094e-01,\n",
       "        0.00000000e+00,  0.00000000e+00,  5.79934509e-03,  9.99983184e-01,\n",
       "        0.00000000e+00,  0.00000000e+00,  2.46520195e-03,  9.99996961e-01,\n",
       "        0.00000000e+00,  0.00000000e+00,  5.79990255e-04,  9.99999832e-01,\n",
       "        0.00000000e+00,  0.00000000e+00, -1.24570555e-03,  9.99999224e-01,\n",
       "        0.00000000e+00,  0.00000000e+00, -3.16963941e-03,  9.99994977e-01,\n",
       "        0.00000000e+00,  0.00000000e+00, -5.95551895e-03,  9.99982266e-01,\n",
       "        0.00000000e+00,  0.00000000e+00, -8.53289861e-03,  9.99963594e-01,\n",
       "        0.00000000e+00,  0.00000000e+00, -9.61491136e-03,  9.99953776e-01,\n",
       "        0.00000000e+00,  0.00000000e+00, -8.32754099e-03,  9.99965325e-01,\n",
       "        0.00000000e+00,  0.00000000e+00, -6.13502778e-03,  9.99981181e-01,\n",
       "        0.00000000e+00,  0.00000000e+00, -3.03579435e-03,  9.99995392e-01,\n",
       "        0.00000000e+00,  0.00000000e+00, -7.67613526e-04,  9.99999705e-01,\n",
       "        0.00000000e+00,  0.00000000e+00,  1.40065692e-03,  9.99999019e-01,\n",
       "        0.00000000e+00,  0.00000000e+00,  3.87254191e-03,  9.99992502e-01,\n",
       "        0.00000000e+00,  0.00000000e+00,  7.20810858e-03,  9.99974021e-01,\n",
       "        0.00000000e+00,  0.00000000e+00,  1.01125280e-02,  9.99948867e-01,\n",
       "        0.00000000e+00,  0.00000000e+00,  1.08427571e-02,  9.99941216e-01,\n",
       "        0.00000000e+00,  0.00000000e+00,  9.19438559e-03,  9.99957731e-01,\n",
       "        0.00000000e+00,  0.00000000e+00,  7.20882823e-03,  9.99974016e-01,\n",
       "        0.00000000e+00,  0.00000000e+00,  4.19928071e-03,  9.99991183e-01,\n",
       "        0.00000000e+00,  0.00000000e+00,  1.42291327e-03,  9.99998988e-01,\n",
       "        0.00000000e+00,  0.00000000e+00, -1.24293126e-03,  9.99999228e-01,\n",
       "        0.00000000e+00,  0.00000000e+00, -4.13175366e-03,  9.99991464e-01,\n",
       "        0.00000000e+00,  0.00000000e+00, -7.98406620e-03,  9.99968127e-01,\n",
       "        0.00000000e+00,  0.00000000e+00, -1.12811383e-02,  9.99936366e-01,\n",
       "        0.00000000e+00,  0.00000000e+00, -1.18872623e-02,  9.99929344e-01,\n",
       "        0.00000000e+00,  0.00000000e+00, -9.68545807e-03,  9.99953095e-01,\n",
       "        0.00000000e+00,  0.00000000e+00, -6.59114332e-03,  9.99978278e-01,\n",
       "        0.00000000e+00,  0.00000000e+00, -2.60838103e-03,  9.99996598e-01,\n",
       "        0.00000000e+00,  0.00000000e+00,  1.21741037e-03,  9.99999259e-01,\n",
       "        0.00000000e+00,  0.00000000e+00,  4.38010604e-03,  9.99990407e-01,\n",
       "        0.00000000e+00,  0.00000000e+00,  8.59980741e-03,  9.99963021e-01,\n",
       "        0.00000000e+00,  0.00000000e+00,  1.19992829e-02,  9.99928006e-01,\n",
       "        0.00000000e+00,  0.00000000e+00,  1.21269231e-02,  9.99926466e-01,\n",
       "        0.00000000e+00,  0.00000000e+00,  8.79644350e-03,  9.99961311e-01,\n",
       "        0.00000000e+00,  0.00000000e+00,  5.21412065e-03,  9.99986406e-01,\n",
       "        0.00000000e+00,  0.00000000e+00,  1.86839706e-03,  9.99998255e-01,\n",
       "        0.00000000e+00,  0.00000000e+00, -1.18591319e-03,  9.99999297e-01,\n",
       "        0.00000000e+00,  0.00000000e+00, -5.45790481e-03,  9.99985106e-01,\n",
       "        0.00000000e+00,  0.00000000e+00, -9.68192531e-03,  9.99953129e-01,\n",
       "        0.00000000e+00,  0.00000000e+00, -1.23402609e-02,  9.99923856e-01,\n",
       "        0.00000000e+00,  0.00000000e+00, -1.12112268e-02,  9.99937152e-01,\n",
       "        0.00000000e+00,  0.00000000e+00, -8.89438134e-03,  9.99960444e-01,\n",
       "        0.00000000e+00,  0.00000000e+00, -5.00122221e-03,  9.99987494e-01,\n",
       "        0.00000000e+00,  0.00000000e+00, -1.60693456e-03,  9.99998709e-01,\n",
       "        0.00000000e+00,  0.00000000e+00,  1.43278836e-03,  9.99998974e-01,\n",
       "        0.00000000e+00,  0.00000000e+00,  6.25319469e-03,  9.99980449e-01,\n",
       "        0.00000000e+00,  0.00000000e+00,  1.03545212e-02,  9.99946391e-01,\n",
       "        0.00000000e+00,  0.00000000e+00,  1.24085071e-02,  9.99923012e-01,\n",
       "        0.00000000e+00,  0.00000000e+00,  1.10199111e-02,  9.99939279e-01,\n",
       "        0.00000000e+00,  0.00000000e+00,  8.84690589e-03,  9.99960865e-01,\n",
       "        0.00000000e+00,  0.00000000e+00,  5.37141689e-03,  9.99985574e-01,\n",
       "        0.00000000e+00,  0.00000000e+00,  1.97962290e-03,  9.99998041e-01,\n",
       "        0.00000000e+00,  0.00000000e+00, -1.11038735e-03,  9.99999384e-01,\n",
       "        0.00000000e+00,  0.00000000e+00, -5.42594837e-03,  9.99985279e-01,\n",
       "        0.00000000e+00,  0.00000000e+00, -9.67402839e-03,  9.99953205e-01,\n",
       "        0.00000000e+00,  0.00000000e+00, -1.23202575e-02,  9.99924103e-01,\n",
       "        0.00000000e+00,  0.00000000e+00, -1.11824474e-02,  9.99937474e-01,\n",
       "        0.00000000e+00,  0.00000000e+00, -8.87615429e-03,  9.99960606e-01,\n",
       "        0.00000000e+00,  0.00000000e+00, -5.01706619e-03,  9.99987414e-01,\n",
       "        0.00000000e+00,  0.00000000e+00, -1.62798445e-03,  9.99998675e-01,\n",
       "        0.00000000e+00,  0.00000000e+00,  1.40963765e-03,  9.99999006e-01,\n",
       "        0.00000000e+00,  0.00000000e+00,  6.20547882e-03,  9.99980746e-01,\n",
       "        0.00000000e+00,  0.00000000e+00,  1.03125256e-02,  9.99946824e-01,\n",
       "        0.00000000e+00,  0.00000000e+00,  1.23972662e-02,  9.99923151e-01,\n",
       "        0.00000000e+00,  0.00000000e+00,  1.10235259e-02,  9.99939239e-01,\n",
       "        0.00000000e+00,  0.00000000e+00,  8.84636907e-03,  9.99960870e-01,\n",
       "        0.00000000e+00,  0.00000000e+00,  5.35554261e-03,  9.99985659e-01,\n",
       "        0.00000000e+00,  0.00000000e+00,  1.96720199e-03,  9.99998065e-01,\n",
       "        0.00000000e+00,  0.00000000e+00, -1.11848696e-03,  9.99999374e-01,\n",
       "        0.00000000e+00,  0.00000000e+00, -5.43882075e-03,  9.99985210e-01,\n",
       "        0.00000000e+00,  0.00000000e+00, -9.68306135e-03,  9.99953118e-01,\n",
       "        0.00000000e+00,  0.00000000e+00, -1.23210138e-02,  9.99924093e-01,\n",
       "        0.00000000e+00,  0.00000000e+00, -1.11803510e-02,  9.99937498e-01,\n",
       "        0.00000000e+00,  0.00000000e+00, -8.87591332e-03,  9.99960608e-01,\n",
       "        0.00000000e+00,  0.00000000e+00, -5.02138411e-03,  9.99987393e-01,\n",
       "        0.00000000e+00,  0.00000000e+00, -1.63306302e-03,  9.99998667e-01,\n",
       "        0.00000000e+00,  0.00000000e+00,  1.40450141e-03,  9.99999014e-01,\n",
       "        0.00000000e+00,  0.00000000e+00,  6.19234724e-03,  9.99980827e-01,\n",
       "        0.00000000e+00,  0.00000000e+00,  1.03017485e-02,  9.99946936e-01,\n",
       "        0.00000000e+00,  0.00000000e+00,  1.23964370e-02,  9.99923161e-01,\n",
       "        0.00000000e+00,  0.00000000e+00,  1.10273496e-02,  9.99939197e-01,\n",
       "        0.00000000e+00,  0.00000000e+00,  8.84863486e-03,  9.99960850e-01,\n",
       "        0.00000000e+00,  0.00000000e+00,  5.35241230e-03,  9.99985676e-01,\n",
       "        0.00000000e+00,  0.00000000e+00,  1.96421676e-03,  9.99998071e-01,\n",
       "        0.00000000e+00,  0.00000000e+00, -1.12085010e-03,  9.99999372e-01,\n",
       "        0.00000000e+00,  0.00000000e+00, -5.44495043e-03,  9.99985176e-01,\n",
       "        0.00000000e+00,  0.00000000e+00, -9.68827117e-03,  9.99953068e-01,\n",
       "        0.00000000e+00,  0.00000000e+00, -1.23217787e-02,  9.99924084e-01,\n",
       "        0.00000000e+00,  0.00000000e+00, -1.11793832e-02,  9.99937509e-01,\n",
       "        0.00000000e+00,  0.00000000e+00, -8.87616134e-03,  9.99960606e-01,\n",
       "        0.00000000e+00,  0.00000000e+00, -5.02488430e-03,  9.99987375e-01,\n",
       "        0.00000000e+00,  0.00000000e+00, -1.63674780e-03,  9.99998661e-01,\n",
       "        0.00000000e+00,  0.00000000e+00,  1.40103192e-03,  9.99999019e-01,\n",
       "        0.00000000e+00,  0.00000000e+00,  6.18445613e-03,  9.99980876e-01,\n",
       "        0.00000000e+00,  0.00000000e+00,  1.02954024e-02,  9.99947001e-01,\n",
       "        0.00000000e+00,  0.00000000e+00,  1.23957675e-02,  9.99923170e-01,\n",
       "        0.00000000e+00,  0.00000000e+00,  1.10292629e-02,  9.99939176e-01,\n",
       "        0.00000000e+00,  0.00000000e+00,  8.84964991e-03,  9.99960841e-01,\n",
       "        0.00000000e+00,  0.00000000e+00,  5.35042534e-03,  9.99985686e-01,\n",
       "        0.00000000e+00,  0.00000000e+00,  1.96236425e-03,  9.99998075e-01,\n",
       "        0.00000000e+00,  0.00000000e+00, -1.12228259e-03,  9.99999370e-01,\n",
       "        0.00000000e+00,  0.00000000e+00, -5.44868692e-03,  9.99985156e-01,\n",
       "        0.00000000e+00,  0.00000000e+00, -9.69141362e-03,  9.99953037e-01,\n",
       "        0.00000000e+00,  0.00000000e+00, -1.23221848e-02,  9.99924079e-01,\n",
       "        0.00000000e+00,  0.00000000e+00, -1.11787266e-02,  9.99937516e-01,\n",
       "        0.00000000e+00,  0.00000000e+00, -8.87625119e-03,  9.99960605e-01,\n",
       "        0.00000000e+00,  0.00000000e+00, -5.02696863e-03,  9.99987365e-01,\n",
       "        0.00000000e+00,  0.00000000e+00, -1.63896644e-03,  9.99998657e-01,\n",
       "        0.00000000e+00,  0.00000000e+00,  1.39892692e-03,  9.99999022e-01,\n",
       "        0.00000000e+00,  0.00000000e+00,  6.17957764e-03,  9.99980906e-01,\n",
       "        0.00000000e+00,  0.00000000e+00,  1.02914650e-02,  9.99947041e-01,\n",
       "        0.00000000e+00,  0.00000000e+00,  1.23953482e-02,  9.99923175e-01,\n",
       "        0.00000000e+00,  0.00000000e+00,  1.10304470e-02,  9.99939163e-01,\n",
       "        0.00000000e+00,  0.00000000e+00,  8.85027010e-03,  9.99960836e-01,\n",
       "        0.00000000e+00,  0.00000000e+00,  5.34916592e-03,  9.99985693e-01,\n",
       "        0.00000000e+00,  0.00000000e+00,  1.96119064e-03,  9.99998077e-01,\n",
       "        0.00000000e+00,  0.00000000e+00, -1.12319098e-03,  9.99999369e-01,\n",
       "        0.00000000e+00,  0.00000000e+00, -5.45104076e-03,  9.99985143e-01,\n",
       "        0.00000000e+00,  0.00000000e+00, -9.69339149e-03,  9.99953018e-01,\n",
       "        0.00000000e+00,  0.00000000e+00, -1.23224431e-02,  9.99924076e-01,\n",
       "        0.00000000e+00,  0.00000000e+00, -1.11783169e-02,  9.99937521e-01,\n",
       "        0.00000000e+00,  0.00000000e+00, -8.87630967e-03,  9.99960605e-01,\n",
       "        0.00000000e+00,  0.00000000e+00, -5.02827794e-03,  9.99987358e-01,\n",
       "        0.00000000e+00,  0.00000000e+00, -1.64035852e-03,  9.99998655e-01,\n",
       "        0.00000000e+00,  0.00000000e+00,  1.39761581e-03,  9.99999023e-01,\n",
       "        0.00000000e+00,  0.00000000e+00,  6.17651396e-03,  9.99980925e-01,\n",
       "        0.00000000e+00,  0.00000000e+00,  1.02889936e-02,  9.99947067e-01,\n",
       "        0.00000000e+00,  0.00000000e+00,  1.13818133e-02,  9.99935225e-01])"
      ]
     },
     "execution_count": 121,
     "metadata": {},
     "output_type": "execute_result"
    }
   ],
   "source": [
    "beam_rot.flatten()"
   ]
  },
  {
   "cell_type": "code",
   "execution_count": 122,
   "metadata": {},
   "outputs": [
    {
     "name": "stdout",
     "output_type": "stream",
     "text": [
      "(Mesh(geometry=BoxGeometry(depth=0.5, height=0.1, width=2.0), material=MeshStandardMaterial(alphaMap=None, aoMap=None, bumpMap=None, color='red', defines={'STANDARD': ''}, displacementMap=None, emissiveMap=None, envMap=None, lightMap=None, map=None, metalnessMap=None, normalMap=None, normalScale=(1.0, 1.0), roughnessMap=None), position=(0.0, 0.0, 0.0), quaternion=(0.0, 0.0, 0.0, 1.0), rotation=(0.0, 0.0, 0.0, 'XYZ'), scale=(1.0, 1.0, 1.0), up=(0.0, 1.0, 0.0)), Mesh(geometry=SphereGeometry(heightSegments=16, radius=0.25, widthSegments=32), material=MeshStandardMaterial(alphaMap=None, aoMap=None, bumpMap=None, color='blue', defines={'STANDARD': ''}, displacementMap=None, emissiveMap=None, envMap=None, lightMap=None, map=None, metalnessMap=None, normalMap=None, normalScale=(1.0, 1.0), roughnessMap=None), position=(1.0, 0.3, 0.0), quaternion=(0.0, 0.0, 0.0, 1.0), rotation=(0.0, 0.0, 0.0, 'XYZ'), scale=(1.0, 1.0, 1.0), up=(0.0, 1.0, 0.0)))\n"
     ]
    },
    {
     "data": {
      "application/vnd.jupyter.widget-view+json": {
       "model_id": "7af46c5eecc84478bcc2fa6c774bdc6f",
       "version_major": 2,
       "version_minor": 0
      },
      "text/plain": [
       "Renderer(camera=PerspectiveCamera(aspect=1.3333333333333333, position=(5.0, 3.0, 5.0), projectionMatrix=(1.0, …"
      ]
     },
     "metadata": {},
     "output_type": "display_data"
    },
    {
     "data": {
      "application/vnd.jupyter.widget-view+json": {
       "model_id": "f59549ad3dfa4d2798443e871c56a168",
       "version_major": 2,
       "version_minor": 0
      },
      "text/plain": [
       "AnimationAction(clip=AnimationClip(tracks=(VectorKeyframeTrack(name='.children[1].position', times=array([0.00…"
      ]
     },
     "execution_count": 122,
     "metadata": {},
     "output_type": "execute_result"
    }
   ],
   "source": [
    "import pythreejs as pj\n",
    "\n",
    "folder = \"space_cubemap\"\n",
    "texture_paths = [\n",
    "    f\"../figures/{folder}/px.png\",  # Positive X\n",
    "    f\"../figures/{folder}/nx.png\",  # Negative X\n",
    "    f\"../figures/{folder}/py.png\",  # Positive Y\n",
    "    f\"../figures/{folder}/ny.png\",  # Negative Y\n",
    "    f\"../figures/{folder}/pz.png\",  # Positive Z\n",
    "    f\"../figures/{folder}/nz.png\",  # Negative Z\n",
    "]\n",
    "\n",
    "scene = pj.Scene()\n",
    "camera = pj.PerspectiveCamera(position=[0, 0, 5], up=[0, 1, 0], aspect=1)\n",
    "camera.lookAt([0, 0, 0])\n",
    "\n",
    "box_sides = 500\n",
    "geom = pj.BoxGeometry(width=box_sides, height=box_sides, depth=box_sides)\n",
    "materials = []\n",
    "for path in texture_paths:\n",
    "    texture = pj.ImageTexture(imageUri=path)\n",
    "    material = pj.MeshBasicMaterial(map=texture, side='BackSide')\n",
    "    materials.append(material)\n",
    "\n",
    "skybox = pj.Mesh(geom, materials)\n",
    "scene.add(skybox)\n",
    "\n",
    "\n",
    "ball = pj.Mesh(\n",
    "    pj.SphereGeometry(.25, 32, 16),\n",
    "    pj.MeshStandardMaterial(color=\"blue\")\n",
    ")\n",
    "beam = pj.Mesh(\n",
    "    pj.BoxGeometry(2, .1, .5),\n",
    "    pj.MeshStandardMaterial(color=\"red\")\n",
    ")\n",
    "\n",
    "beam.position = (0, 0, 0)\n",
    "ball.position = tuple(ball_pos[:, 0])\n",
    "\n",
    "pivot = pj.Group()\n",
    "pivot.add(beam)\n",
    "pivot.add(ball)\n",
    "\n",
    "scene.add(pivot)\n",
    "\n",
    "#ball_pos = np.zeros_like(ball_pos)\n",
    "#ball_pos[0, :] = res.y[0, :]\n",
    "#ball_pos[1, :] = 1 * np.ones((len(res.t)))\n",
    "\n",
    "ball_position_track = pj.VectorKeyframeTrack(name=\".children[1].position\", times = res.t, values = ball_pos.T)\n",
    "pivot_rotation_track = pj.QuaternionKeyframeTrack(name=\".quaternion\", times = res.t, values = beam_rot)\n",
    "ball_clip = pj.AnimationClip(tracks=[ball_position_track])\n",
    "ball_action = pj.AnimationAction(pj.AnimationMixer(ball), ball_clip, ball)\n",
    "\n",
    "#pivot_position_track = pj.VectorKeyframeTrack(name=\".position\", times = time, values = positions)\n",
    "#pivot_rotation_track = pj.QuaternionKeyframeTrack(name = \".quaternion\", times = time, values = rotations)\n",
    "pivot_clip = pj.AnimationClip(tracks = [ball_position_track, pivot_rotation_track])\n",
    "pivot_action = pj.AnimationAction(pj.AnimationMixer(pivot), pivot_clip, pivot)\n",
    "\n",
    "print(pivot.children)\n",
    "\n",
    "view_width, view_height = 800, 600\n",
    "camera = pj.PerspectiveCamera(position=[5, 3, 5], aspect = view_width/view_height)\n",
    "ambient_light = pj.AmbientLight(color=\"#ffffff\", intensity=1.0)\n",
    "key_light = pj.DirectionalLight(position=[0, 10, 0])\n",
    "scene.add(ambient_light)\n",
    "scene.add(key_light)\n",
    "\n",
    "renderer = pj.Renderer(camera=camera, scene=scene, width=view_width, height=view_height)\n",
    "controls = pj.OrbitControls(controlling = camera)\n",
    "renderer.controls = [controls]\n",
    "\n",
    "display(renderer)\n",
    "pivot_action\n",
    "#ball_action\n"
   ]
  },
  {
   "cell_type": "code",
   "execution_count": 95,
   "metadata": {},
   "outputs": [
    {
     "data": {
      "application/vnd.jupyter.widget-view+json": {
       "model_id": "ab60e7a3e5474e87a70849b19e5755a1",
       "version_major": 2,
       "version_minor": 0
      },
      "text/plain": [
       "Mesh(geometry=SphereGeometry(heightSegments=16, radius=0.25, widthSegments=32), material=MeshStandardMaterial(…"
      ]
     },
     "execution_count": 95,
     "metadata": {},
     "output_type": "execute_result"
    }
   ],
   "source": [
    "pivot.children[1]"
   ]
  }
 ],
 "metadata": {
  "kernelspec": {
   "display_name": "Python 3 (ipykernel)",
   "language": "python",
   "name": "python3"
  },
  "language_info": {
   "codemirror_mode": {
    "name": "ipython",
    "version": 3
   },
   "file_extension": ".py",
   "mimetype": "text/x-python",
   "name": "python",
   "nbconvert_exporter": "python",
   "pygments_lexer": "ipython3",
   "version": "3.11.11"
  }
 },
 "nbformat": 4,
 "nbformat_minor": 4
}
