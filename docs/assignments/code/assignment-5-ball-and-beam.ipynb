{
 "cells": [
  {
   "cell_type": "markdown",
   "metadata": {},
   "source": [
    "# Code Handout - Assignment 5 - Ball and Beam"
   ]
  },
  {
   "cell_type": "code",
   "execution_count": null,
   "metadata": {},
   "outputs": [],
   "source": [
    "import numpy as np\n",
    "import matplotlib.pyplot as plt\n",
    "from scipy.integrate import solve_ivp"
   ]
  },
  {
   "cell_type": "markdown",
   "metadata": {},
   "source": [
    "## TODO:\n",
    "\n",
    "Relevant matlab files:\n",
    "\n",
    "- `BallAndBeamSymbolicTemplate.m` -- symbolic calculations for task 1e, should be completed by the student\n",
    "- `BallAndBeamODEMatrices.m` -- routine used in the state-space model together with the PD-law, backbone for full model which the student should make\n",
    "- `BallAndBeamSimulation.m` -- optional, should be completed by the student\n",
    "\n",
    "Critical\n",
    "\n",
    "- Make the symbolic template, this is most of the code work\n",
    "- ???"
   ]
  },
  {
   "cell_type": "code",
   "execution_count": 70,
   "metadata": {},
   "outputs": [],
   "source": [
    "import sympy as sm\n",
    "from sympy import vector\n",
    "from IPython.display import display_latex\n",
    "\n",
    "# Defining the necessary symbols\n",
    "\n",
    "J, M, R, g, To = sm.symbols(\"J M R g T_o\")\n",
    "x, theta = sm.symbols(\"x theta\")\n",
    "dx, dtheta = sm.symbols(r\"dx d\\theta\")\n",
    "\n",
    "q = sm.Matrix((x, theta))\n",
    "dq = sm.Matrix((dx, dtheta))\n",
    "\n",
    "p = x * sm.Matrix([sm.cos(theta), sm.sin(theta)])\\\n",
    "    + R * sm.Matrix([-sm.sin(theta), sm.cos(theta)])\n",
    "\n",
    "linear_energy_beam = 0.5 * J * dtheta**2\n",
    "\n",
    "dp = sm.Matrix.jacobian(p, q)\n",
    "linear_energy_ball = (0.5 * M * (dq.T @ (dp.T @ dp) @ dq))[0, 0]\n",
    "\n",
    "I = (2/5) * M * R**2\n",
    "omega = dtheta + dx / R\n",
    "\n",
    "rotational_energy_ball = 0.5 * I * omega**2\n",
    "\n",
    "T = sm.simplify(linear_energy_beam + rotational_energy_ball + linear_energy_ball)\n",
    "\n",
    "V = M * g * p[1]\n",
    "\n",
    "Lagrangian = sm.Matrix([T - V])\n",
    "\n",
    "Lagrangian_q = sm.simplify(sm.Matrix.jacobian(Lagrangian, q))\n",
    "Lagrangian_qdq = sm.simplify(sm.Matrix.jacobian(Lagrangian_q, dq))\n",
    "Lagrangian_dq = sm.simplify(sm.Matrix.jacobian(Lagrangian, dq))\n",
    "Lagrangian_dqdq = sm.simplify(sm.Matrix.jacobian(Lagrangian_dq, dq))\n",
    "\n",
    "W = Lagrangian_dqdq\n",
    "RHS = sm.Matrix([0, To]) + sm.simplify(Lagrangian_q.T - Lagrangian_qdq @ dq)\n",
    "\n",
    "state = sm.Matrix([q, dq])\n",
    "param = sm.Matrix([J, M, R, g])\n"
   ]
  }
 ],
 "metadata": {
  "kernelspec": {
   "display_name": "ttk4130.github.io-CQ4pw-6c",
   "language": "python",
   "name": "python3"
  },
  "language_info": {
   "codemirror_mode": {
    "name": "ipython",
    "version": 3
   },
   "file_extension": ".py",
   "mimetype": "text/x-python",
   "name": "python",
   "nbconvert_exporter": "python",
   "pygments_lexer": "ipython3",
   "version": "3.11.11"
  }
 },
 "nbformat": 4,
 "nbformat_minor": 2
}
