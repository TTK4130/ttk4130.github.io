{
 "cells": [
  {
   "cell_type": "markdown",
   "metadata": {},
   "source": [
    "# Code handout - Assignment 5 - Ball and Beam\n",
    "\n",
    "In this task, you will be asked to fill in the definitions and expressions necessary for the simulation of the \"ball on beam\" to run to completion.\n",
    "If everything works out, there should be an animation of the externally driven beam joint that shows the behavior of the system."
   ]
  },
  {
   "cell_type": "markdown",
   "metadata": {},
   "source": [
    "## Imports"
   ]
  },
  {
   "cell_type": "code",
   "execution_count": 1,
   "metadata": {},
   "outputs": [],
   "source": [
    "import numpy as np\n",
    "import matplotlib.pyplot as plt\n",
    "from scipy.integrate import solve_ivp\n",
    "\n",
    "import sympy as sm\n",
    "from sympy import vector\n",
    "from IPython.display import display_latex"
   ]
  },
  {
   "cell_type": "markdown",
   "metadata": {},
   "source": [
    "## Symbolic derivations\n",
    "\n",
    "First, we define the symbols that will be necessary for the computations below.\n",
    "These are:\n",
    "\n",
    "- System parameters:\n",
    "    - $J$, `J`: rotational inertia of the joint\n",
    "    - $M$, `M`: mass of the ball\n",
    "    - $R$, `R`: radius of the ball\n",
    "    - $g$, `g`: gravitational acceleration (fun fact: locally in Trondheim, this is 9.82, not the usual 9.81)\n",
    "- State:\n",
    "    - $x$, `x`: displacement from the center of the beam\n",
    "    - $\\theta$, `theta`: angle of the rotation of the beam relative the the interial frame\n",
    "    - $\\dot{x}$, `x_dot`: time derivative of displacement\n",
    "    - $\\dot{\\theta}$, `theta_dot`: time derivative of angle\n",
    "- External torque\n",
    "    - $T_o$, `torque`: external torque acting on the beam joint"
   ]
  },
  {
   "cell_type": "code",
   "execution_count": 2,
   "metadata": {},
   "outputs": [],
   "source": [
    "# Defining the necessary symbols\n",
    "J, M, R, g, torque = sm.symbols(\"J M R g T_o\")\n",
    "x, theta = sm.symbols(\"x theta\")\n",
    "x_dot, theta_dot = sm.symbols(\"xdot thetadot\")"
   ]
  },
  {
   "cell_type": "markdown",
   "metadata": {},
   "source": [
    "### Derivations and expressions\n",
    "\n",
    "This is the section where you will have to fill in the correct expressions.\n",
    "Specifically for:\n",
    "\n",
    "- $q$, `q`: generalized coordinates of the system\n",
    "- $\\dot{q}$, `q_dot`: time derivative of the generalized coordinates\n",
    "- $p$, `p`: position of ball center\n",
    "- $T$, `T`: total kinetic energy, involving:\n",
    "    - `kinetic_energy_beam`: \n",
    "    - `linear_energy_ball`: \n",
    "    - `rotational_energy_ball`: kinetic energy from the fact that the ball rotates\n",
    "    - $I$, `I`: inertia of the rotating ball\n",
    "    - $\\omega$, `omega`: angular velocity of the ball\n",
    "- $V$, `V`: potential energy of the system\n",
    "- $Q$, `Q`: generalized forces\n",
    "\n",
    "Hint: use `display_latex(<expr>)` to print the supplied expression, this can be handy for checking that what you've written is actually what you wanted to write!"
   ]
  },
  {
   "cell_type": "code",
   "execution_count": 3,
   "metadata": {},
   "outputs": [],
   "source": [
    "placeholder = sm.symbols(\"a\")"
   ]
  },
  {
   "cell_type": "code",
   "execution_count": 4,
   "metadata": {},
   "outputs": [],
   "source": [
    "q = placeholder      # TODO\n",
    "q_dot = placeholder  # TODO"
   ]
  },
  {
   "cell_type": "code",
   "execution_count": 5,
   "metadata": {},
   "outputs": [],
   "source": [
    "p = placeholder      # TODO\n",
    "p_dot = placeholder  # TODO\n",
    "\n",
    "kinetic_energy_beam = placeholder  # TODO\n",
    "linear_energy_ball = placeholder   # TODO\n",
    "\n",
    "I = placeholder                       # TODO\n",
    "omega = placeholder                   # TODO\n",
    "rotational_energy_ball = placeholder  # TODO"
   ]
  },
  {
   "cell_type": "code",
   "execution_count": 6,
   "metadata": {},
   "outputs": [],
   "source": [
    "T = placeholder  # TODO\n",
    "V = placeholder  # TODO\n",
    "Q = placeholder  # TODO\n",
    "Lagrangian = placeholder  # TODO"
   ]
  },
  {
   "cell_type": "markdown",
   "metadata": {},
   "source": [
    "### Lagrangian magic\n",
    "\n",
    "Now, we let SymPy do what it needs to give us the expressions we need.\n",
    "If the definitions you have made above are correct, you should be able to uncomment the computations and it should *just work*.\n",
    "Good luck."
   ]
  },
  {
   "cell_type": "code",
   "execution_count": 7,
   "metadata": {},
   "outputs": [],
   "source": [
    "#Lagrangian_q = sm.simplify(sm.Matrix.jacobian(Lagrangian, q))\n",
    "#Lagrangian_q_qdot = sm.simplify(sm.Matrix.jacobian(Lagrangian_q, q_dot))\n",
    "#Lagrangian_qdot = sm.simplify(sm.Matrix.jacobian(Lagrangian, q_dot))\n",
    "#Lagrangian_qdot_qdot = sm.simplify(sm.Matrix.jacobian(Lagrangian_qdot, q_dot))"
   ]
  },
  {
   "cell_type": "code",
   "execution_count": 8,
   "metadata": {},
   "outputs": [],
   "source": [
    "#W = Lagrangian_qdot_qdot\n",
    "#RHS = Q + sm.simplify(Lagrangian_q.T - Lagrangian_q_qdot @ q_dot)"
   ]
  },
  {
   "cell_type": "markdown",
   "metadata": {},
   "source": [
    "### Lambdification\n",
    "\n",
    "Converts the symbolic expressions to callable functions accelerated with NumPy.\n",
    "We let the state vector be $[x, \\theta, \\dot{x}, \\dot{\\theta}]^T$\n",
    "and the parameter vector be $[J, M, R, g]^T$.\n",
    "Additionally, the $W$ and `RHS`-functions require the external torque $T$.\n",
    "\n",
    "This corresponds to the routine mentioned in task 2e that exports functions for ball position and ODE matrices.\n",
    "(uncomment the expressions here as well!)"
   ]
  },
  {
   "cell_type": "code",
   "execution_count": 9,
   "metadata": {},
   "outputs": [],
   "source": [
    "state = sm.Matrix([q, q_dot])\n",
    "param = sm.Matrix([J, M, R, g])\n",
    "\n",
    "#ball_position = sm.lambdify((state, param), p, modules=\"numpy\")\n",
    "#get_W = sm.lambdify((state, param, torque), W, modules=\"numpy\")\n",
    "#get_RHS = sm.lambdify((state, param, torque), RHS, modules=\"numpy\")"
   ]
  },
  {
   "cell_type": "markdown",
   "metadata": {},
   "source": [
    "### Simulation\n",
    "\n",
    "As usual, in order to use `scipy.integrate.solve_ivp`, we need to supply a function $\\dot{q} = f(t, q)$, which we will wrap in a scope containing the necessary parameters.\n",
    "The precise implementation of $f(t, q)$ is up to you!"
   ]
  },
  {
   "cell_type": "code",
   "execution_count": 10,
   "metadata": {},
   "outputs": [],
   "source": [
    "def make_ball_and_beam_dynamics(param):\n",
    "    def ball_and_beam_dynamics(time, state):\n",
    "        # TODO\n",
    "        pass\n",
    "    return ball_and_beam_dynamics"
   ]
  },
  {
   "cell_type": "markdown",
   "metadata": {},
   "source": [
    "Write the correct expressions for the state and parameters of the system and switch the placeholder `ys`/`ts` with the computed results.\n",
    "Note that:\n",
    "\n",
    "- `ys` is the state vector of the system for each computed time\n",
    "- `ts` is the timestamp corresponding to each comptued state vector"
   ]
  },
  {
   "cell_type": "code",
   "execution_count": 11,
   "metadata": {},
   "outputs": [],
   "source": [
    "from scipy.integrate import solve_ivp\n",
    "\n",
    "# Parameters and initial states\n",
    "time_final  = 15\n",
    "parameters = None  # TODO\n",
    "state = None       # TODO\n",
    "\n",
    "ball_and_beam_dynamics = make_ball_and_beam_dynamics(parameters)\n",
    "#res = solve_ivp(ball_and_beam_dynamics, (0, time_final), state)  # TODO\n",
    "\n",
    "#ys = res.y  # TODO\n",
    "#ts = res.t  # TODO\n",
    "\n",
    "ys = np.zeros((4, 100), dtype=np.float32)\n",
    "ts = np.zeros((1, 100), dtype=np.float32)"
   ]
  },
  {
   "cell_type": "markdown",
   "metadata": {},
   "source": [
    "## Animation"
   ]
  },
  {
   "cell_type": "code",
   "execution_count": 12,
   "metadata": {},
   "outputs": [],
   "source": [
    "import pythreejs as pj\n",
    "\n",
    "## Initializing the scene\n",
    "scene = pj.Scene()\n",
    "camera = pj.PerspectiveCamera(position=[0, 0, 5], up=[0, 1, 0], aspect=1)\n",
    "camera.lookAt([0, 0, 0])\n",
    "\n",
    "## Setting up the skybox\n",
    "folder = \"ceiling_lights_cubemap\"\n",
    "texture_paths = [\n",
    "    f\"./{folder}/px.png\",  # Positive X\n",
    "    f\"./{folder}/nx.png\",  # Negative X\n",
    "    f\"./{folder}/py.png\",  # Positive Y\n",
    "    f\"./{folder}/ny.png\",  # Negative Y\n",
    "    f\"./{folder}/pz.png\",  # Positive Z\n",
    "    f\"./{folder}/nz.png\",  # Negative Z\n",
    "]\n",
    "box_sides = 500\n",
    "geom = pj.BoxGeometry(width=box_sides, height=box_sides, depth=box_sides)\n",
    "materials = [pj.MeshBasicMaterial(map = pj.ImageTexture(imageUri = path), side=\"BackSide\") for path in texture_paths]\n",
    "skybox = pj.Mesh(geom, materials)\n",
    "scene.add(skybox)\n",
    "\n",
    "## Setting up objects\n",
    "ball_radius = 0.25\n",
    "beam_length, beam_width, beam_height = 3, .5, .1\n",
    "\n",
    "ball = pj.Mesh(\n",
    "    pj.SphereGeometry(ball_radius, 32, 16), \n",
    "    pj.MeshStandardMaterial(color=\"blue\"))\n",
    "beam = pj.Mesh(\n",
    "    pj.BoxGeometry(beam_length, beam_height, beam_width),\n",
    "    pj.MeshStandardMaterial(color=\"red\"))\n",
    "\n",
    "## Position and rotation\n",
    "ball_pos = np.zeros((3, ys.shape[1]), dtype=np.float32)\n",
    "ball_pos[0, :] = ys[0, :]\n",
    "ball_pos[1, :] = (ball_radius + 0.5 * beam_height) * np.ones((len(ts)))\n",
    "\n",
    "from scipy.spatial.transform import Rotation\n",
    "exaggeration_coefficient = 10\n",
    "beam_rot = Rotation.from_euler(\"z\", exaggeration_coefficient * ys[1, :], degrees=True).as_quat().astype(np.float32).T\n",
    "\n",
    "beam.position = (0, 0, 0)\n",
    "ball.position = tuple(ball_pos[:, 0])\n",
    "\n",
    "## Collecting in a group for correct rotation animation\n",
    "pivot = pj.Group()\n",
    "pivot.add(beam)  # this becomes pivot.children[0]\n",
    "pivot.add(ball)  # this becomes pivot.children[1]\n",
    "pivot.quaternion = tuple(beam_rot[:, 0])\n",
    "scene.add(pivot)\n",
    "\n",
    "## Setting up the animation\n",
    "ball_position_track = pj.VectorKeyframeTrack(name=\".children[1].position\", times = ts, values = ball_pos.T)\n",
    "pivot_rotation_track = pj.QuaternionKeyframeTrack(name=\".quaternion\", times = ts, values = beam_rot.T)\n",
    "pivot_clip = pj.AnimationClip(tracks = [ball_position_track, pivot_rotation_track])\n",
    "pivot_action = pj.AnimationAction(pj.AnimationMixer(pivot), pivot_clip, pivot)\n",
    "\n",
    "## Setting the scene\n",
    "view_width, view_height = 800, 600\n",
    "camera = pj.PerspectiveCamera(position=[0, 1, 4], aspect = view_width/view_height)\n",
    "ambient_light = pj.AmbientLight(color=\"#ffffff\", intensity=1.0)\n",
    "key_light = pj.DirectionalLight(position=[0, 10, 0])\n",
    "scene.add(ambient_light)\n",
    "scene.add(key_light)\n",
    "\n",
    "## Making the renderer\n",
    "renderer = pj.Renderer(camera=camera, scene=scene, width=view_width, height=view_height)\n",
    "controls = pj.OrbitControls(controlling = camera)\n",
    "renderer.controls = [controls]"
   ]
  },
  {
   "cell_type": "markdown",
   "metadata": {},
   "source": [
    "Now, we are finally ready for the animation!"
   ]
  },
  {
   "cell_type": "code",
   "execution_count": 13,
   "metadata": {},
   "outputs": [
    {
     "data": {
      "application/vnd.jupyter.widget-view+json": {
       "model_id": "ada12b01690847be9e76c447debdbb5f",
       "version_major": 2,
       "version_minor": 0
      },
      "text/plain": [
       "Renderer(camera=PerspectiveCamera(aspect=1.3333333333333333, position=(0.0, 1.0, 4.0), projectionMatrix=(1.0, …"
      ]
     },
     "metadata": {},
     "output_type": "display_data"
    },
    {
     "data": {
      "application/vnd.jupyter.widget-view+json": {
       "model_id": "8788b32838f34a24ad87eab688f5782d",
       "version_major": 2,
       "version_minor": 0
      },
      "text/plain": [
       "AnimationAction(clip=AnimationClip(tracks=(VectorKeyframeTrack(name='.children[1].position', times=array([[0.,…"
      ]
     },
     "execution_count": 13,
     "metadata": {},
     "output_type": "execute_result"
    }
   ],
   "source": [
    "display(renderer)\n",
    "pivot_action"
   ]
  }
 ],
 "metadata": {
  "kernelspec": {
   "display_name": "Python 3 (ipykernel)",
   "language": "python",
   "name": "python3"
  },
  "language_info": {
   "codemirror_mode": {
    "name": "ipython",
    "version": 3
   },
   "file_extension": ".py",
   "mimetype": "text/x-python",
   "name": "python",
   "nbconvert_exporter": "python",
   "pygments_lexer": "ipython3",
   "version": "3.11.11"
  }
 },
 "nbformat": 4,
 "nbformat_minor": 4
}
