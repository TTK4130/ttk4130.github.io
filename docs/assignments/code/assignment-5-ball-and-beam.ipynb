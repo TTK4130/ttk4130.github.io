{
 "cells": [
  {
   "cell_type": "markdown",
   "metadata": {},
   "source": [
    "# Code handout - Assignment 5 - Ball and Beam\n",
    "\n",
    "In this task, you will be asked to fill in the definitions and expressions necessary for the simulation of the \"ball on beam\" to run to completion.\n",
    "If everything works out, there should be an animation of the externally driven beam joint that shows the behavior of the system."
   ]
  },
  {
   "cell_type": "markdown",
   "metadata": {},
   "source": [
    "## Imports"
   ]
  },
  {
   "cell_type": "code",
   "execution_count": null,
   "metadata": {},
   "outputs": [],
   "source": [
    "import numpy as np\n",
    "import matplotlib.pyplot as plt\n",
    "from scipy.integrate import solve_ivp\n",
    "\n",
    "import sympy as sm\n",
    "from sympy import vector\n",
    "from IPython.display import display_latex"
   ]
  },
  {
   "cell_type": "markdown",
   "metadata": {},
   "source": [
    "## Symbolic derivations\n",
    "\n",
    "First, we define the symbols that will be necessary for the computations below.\n",
    "These are:\n",
    "\n",
    "- System parameters:\n",
    "    - $J$, `J`: rotational inertia of the joint\n",
    "    - $M$, `M`: mass of the ball\n",
    "    - $R$, `R`: radius of the ball\n",
    "    - $g$, `g`: gravitational acceleration (fun fact: locally in Trondheim, this is 9.82, not the usual 9.81)\n",
    "- State:\n",
    "    - $x$, `x`: displacement from the center of the beam\n",
    "    - $\\theta$, `theta`: angle of the rotation of the beam relative the the interial frame\n",
    "    - $\\dot{x}$, `x_dot`: time derivative of displacement\n",
    "    - $\\dot{\\theta}$, `theta_dot`: time derivative of angle\n",
    "- External torque\n",
    "    - $T_o$, `torque`: external torque acting on the beam joint"
   ]
  },
  {
   "cell_type": "code",
   "execution_count": null,
   "metadata": {},
   "outputs": [],
   "source": [
    "# Defining the necessary symbols\n",
    "J, M, R, g, torque = sm.symbols(\"J M R g T_o\")\n",
    "x, theta = sm.symbols(\"x theta\")\n",
    "x_dot, theta_dot = sm.symbols(\"xdot thetadot\")"
   ]
  },
  {
   "cell_type": "markdown",
   "metadata": {},
   "source": [
    "### Derivations and expressions\n",
    "\n",
    "This is the section where you will have to fill in the correct expressions.\n",
    "Specifically for:\n",
    "\n",
    "- $q$, `q`: generalized coordinates of the system\n",
    "- $\\dot{q}$, `q_dot`: time derivative of the generalized coordinates\n",
    "- $p$, `p`: position of ball center\n",
    "- $T$, `T`: total kinetic energy, involving:\n",
    "    - `kinetic_energy_beam`: \n",
    "    - `linear_energy_ball`: \n",
    "    - `rotational_energy_ball`: kinetic energy from the fact that the ball rotates\n",
    "    - $I$, `I`: inertia of the rotating ball\n",
    "    - $\\omega$, `omega`: angular velocity of the ball\n",
    "- $V$, `V`: potential energy of the system\n",
    "- $Q$, `Q`: generalized forces\n",
    "\n",
    "Hint: use `display_latex(<expr>)` to print the supplied expression, this can be handy for checking that what you've written is actually what you wanted to write!"
   ]
  },
  {
   "cell_type": "code",
   "execution_count": null,
   "metadata": {},
   "outputs": [],
   "source": [
    "q = None      # TODO\n",
    "q_dot = None  # TODO"
   ]
  },
  {
   "cell_type": "code",
   "execution_count": null,
   "metadata": {},
   "outputs": [],
   "source": [
    "p = None      # TODO\n",
    "p_dot = None  # TODO\n",
    "\n",
    "kinetic_energy_beam = None  # TODO\n",
    "linear_energy_ball = None   # TODO\n",
    "\n",
    "I = None                       # TODO\n",
    "omega = None                   # TODO\n",
    "rotational_energy_ball = None  # TODO"
   ]
  },
  {
   "cell_type": "code",
   "execution_count": null,
   "metadata": {},
   "outputs": [],
   "source": [
    "T = None  # TODO\n",
    "V = None  # TODO\n",
    "Q = None  # TODO\n",
    "Lagrangian = None  # TODO"
   ]
  },
  {
   "cell_type": "markdown",
   "metadata": {},
   "source": [
    "### Lagrangian magic\n",
    "\n",
    "Now, we let SymPy do what it needs to give us the expressions we need.\n",
    "If the definitions you have made above are correct, this should *just work*.\n",
    "Good luck."
   ]
  },
  {
   "cell_type": "code",
   "execution_count": null,
   "metadata": {},
   "outputs": [],
   "source": [
    "Lagrangian_q = sm.simplify(sm.Matrix.jacobian(Lagrangian, q))\n",
    "Lagrangian_q_qdot = sm.simplify(sm.Matrix.jacobian(Lagrangian_q, q_dot))\n",
    "Lagrangian_qdot = sm.simplify(sm.Matrix.jacobian(Lagrangian, q_dot))\n",
    "Lagrangian_qdot_qdot = sm.simplify(sm.Matrix.jacobian(Lagrangian_qdot, q_dot))"
   ]
  },
  {
   "cell_type": "code",
   "execution_count": null,
   "metadata": {},
   "outputs": [],
   "source": [
    "W = Lagrangian_qdot_qdot\n",
    "RHS = Q + sm.simplify(Lagrangian_q.T - Lagrangian_q_qdot @ q_dot)"
   ]
  },
  {
   "cell_type": "markdown",
   "metadata": {},
   "source": [
    "### Lambdification\n",
    "\n",
    "Converts the symbolic expressions to callable functions accelerated with NumPy.\n",
    "We let the state vector be $[x, \\theta, \\dot{x}, \\dot{\\theta}]^T$\n",
    "and the parameter vector be $[J, M, R, g]^T$.\n",
    "Additionally, the $W$ and `RHS`-functions require the external torque $T$.\n",
    "\n",
    "This corresponds to the routine mentioned in task 2e that exports functions for ball position and ODE matrices."
   ]
  },
  {
   "cell_type": "code",
   "execution_count": null,
   "metadata": {},
   "outputs": [],
   "source": [
    "state = sm.Matrix([q, q_dot])\n",
    "param = sm.Matrix([J, M, R, g])\n",
    "\n",
    "ball_position = sm.lambdify((state, param), p, modules=\"numpy\")\n",
    "get_W = sm.lambdify((state, param, torque), W, modules=\"numpy\")\n",
    "get_RHS = sm.lambdify((state, param, torque), RHS, modules=\"numpy\")"
   ]
  },
  {
   "cell_type": "markdown",
   "metadata": {},
   "source": [
    "### Simulation\n",
    "\n",
    "As usual, in order to use `scipy.integrate.solve_ivp`, we need to supply a function $\\dot{q} = f(t, q)$, which we will wrap in a scope containing the necessary parameters.\n",
    "The precise implementation of $f(t, q)$ is up to you!"
   ]
  },
  {
   "cell_type": "code",
   "execution_count": null,
   "metadata": {},
   "outputs": [],
   "source": [
    "def make_ball_and_beam_dynamics(param):\n",
    "    def ball_and_beam_dynamics(time, state):\n",
    "        # TODO\n",
    "        pass\n",
    "    return ball_and_beam_dynamics"
   ]
  },
  {
   "cell_type": "code",
   "execution_count": null,
   "metadata": {},
   "outputs": [],
   "source": [
    "from scipy.integrate import solve_ivp\n",
    "\n",
    "# Parameters and initial states\n",
    "time_final  = 15\n",
    "parameters = None  # TODO\n",
    "state = None       # TODO\n",
    "\n",
    "ball_and_beam_dynamics = make_ball_and_beam_dynamics(parameters)\n",
    "res = solve_ivp(ball_and_beam_dynamics, (0, time_final), state)"
   ]
  },
  {
   "cell_type": "markdown",
   "metadata": {},
   "source": [
    "## Animation"
   ]
  },
  {
   "cell_type": "code",
   "execution_count": null,
   "metadata": {},
   "outputs": [],
   "source": [
    "import pythreejs as pj\n",
    "\n",
    "## Initializing the scene\n",
    "scene = pj.Scene()\n",
    "camera = pj.PerspectiveCamera(position=[0, 0, 5], up=[0, 1, 0], aspect=1)\n",
    "camera.lookAt([0, 0, 0])\n",
    "\n",
    "## Setting up the skybox\n",
    "folder = \"ceiling_lights_cubemap\"\n",
    "texture_paths = [\n",
    "    f\"./{folder}/px.png\",  # Positive X\n",
    "    f\"./{folder}/nx.png\",  # Negative X\n",
    "    f\"./{folder}/py.png\",  # Positive Y\n",
    "    f\"./{folder}/ny.png\",  # Negative Y\n",
    "    f\"./{folder}/pz.png\",  # Positive Z\n",
    "    f\"./{folder}/nz.png\",  # Negative Z\n",
    "]\n",
    "box_sides = 500\n",
    "geom = pj.BoxGeometry(width=box_sides, height=box_sides, depth=box_sides)\n",
    "materials = [pj.MeshBasicMaterial(map = pj.ImageTexture(imageUri = path), side=\"BackSide\") for path in texture_paths]\n",
    "skybox = pj.Mesh(geom, materials)\n",
    "scene.add(skybox)\n",
    "\n",
    "## Setting up objects\n",
    "ball_radius = 0.25\n",
    "beam_length, beam_width, beam_height = 3, .5, .1\n",
    "\n",
    "ball = pj.Mesh(\n",
    "    pj.SphereGeometry(ball_radius, 32, 16), \n",
    "    pj.MeshStandardMaterial(color=\"blue\"))\n",
    "beam = pj.Mesh(\n",
    "    pj.BoxGeometry(beam_length, beam_height, beam_width),\n",
    "    pj.MeshStandardMaterial(color=\"red\"))\n",
    "\n",
    "## Position and rotation\n",
    "ball_pos = np.zeros((3, res.y.shape[1]))\n",
    "ball_pos[0, :] = res.y[0, :]\n",
    "ball_pos[1, :] = (ball_radius + 0.5 * beam_height) * np.ones((len(res.t)))\n",
    "\n",
    "from scipy.spatial.transform import Rotation\n",
    "exaggeration_coefficient = 10\n",
    "beam_rot = Rotation.from_euler(\"z\", exaggeration_coefficient * res.y[1, :], degrees=True).as_quat().T\n",
    "\n",
    "beam.position = (0, 0, 0)\n",
    "ball.position = tuple(ball_pos[:, 0])\n",
    "\n",
    "## Collecting in a group for correct rotation animation\n",
    "pivot = pj.Group()\n",
    "pivot.add(beam)  # this becomes pivot.children[0]\n",
    "pivot.add(ball)  # this becomes pivot.children[1]\n",
    "pivot.quaternion = tuple(beam_rot[:, 0])\n",
    "scene.add(pivot)\n",
    "\n",
    "## Setting up the animation\n",
    "ball_position_track = pj.VectorKeyframeTrack(name=\".children[1].position\", times = res.t, values = ball_pos.T)\n",
    "pivot_rotation_track = pj.QuaternionKeyframeTrack(name=\".quaternion\", times = res.t, values = beam_rot.T)\n",
    "pivot_clip = pj.AnimationClip(tracks = [ball_position_track, pivot_rotation_track])\n",
    "pivot_action = pj.AnimationAction(pj.AnimationMixer(pivot), pivot_clip, pivot)\n",
    "\n",
    "## Setting the scene\n",
    "view_width, view_height = 800, 600\n",
    "camera = pj.PerspectiveCamera(position=[0, 1, 4], aspect = view_width/view_height)\n",
    "ambient_light = pj.AmbientLight(color=\"#ffffff\", intensity=1.0)\n",
    "key_light = pj.DirectionalLight(position=[0, 10, 0])\n",
    "scene.add(ambient_light)\n",
    "scene.add(key_light)\n",
    "\n",
    "## Making the renderer\n",
    "renderer = pj.Renderer(camera=camera, scene=scene, width=view_width, height=view_height)\n",
    "controls = pj.OrbitControls(controlling = camera)\n",
    "renderer.controls = [controls]"
   ]
  },
  {
   "cell_type": "markdown",
   "metadata": {},
   "source": [
    "Now, we are finally ready for the animation!"
   ]
  },
  {
   "cell_type": "code",
   "execution_count": null,
   "metadata": {},
   "outputs": [],
   "source": [
    "display(renderer)\n",
    "pivot_action"
   ]
  }
 ],
 "metadata": {
  "kernelspec": {
   "display_name": "Python 3 (ipykernel)",
   "language": "python",
   "name": "python3"
  },
  "language_info": {
   "codemirror_mode": {
    "name": "ipython",
    "version": 3
   },
   "file_extension": ".py",
   "mimetype": "text/x-python",
   "name": "python",
   "nbconvert_exporter": "python",
   "pygments_lexer": "ipython3",
   "version": "3.12.7"
  }
 },
 "nbformat": 4,
 "nbformat_minor": 4
}
