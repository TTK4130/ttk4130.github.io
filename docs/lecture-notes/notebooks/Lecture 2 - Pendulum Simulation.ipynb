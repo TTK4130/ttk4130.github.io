{
 "cells": [
  {
   "cell_type": "markdown",
   "id": "97a6641d",
   "metadata": {},
   "source": [
    "# Pendulum Simulation\n",
    "In this session, we will simulate the motion of a simple pendulum using the Forward Euler method. We will define system parameters, simulate its motion, and visualize the results."
   ]
  },
  {
   "cell_type": "markdown",
   "id": "9e67708b",
   "metadata": {},
   "source": [
    "## 1. Define the System Parameters\n",
    "The system parameters include the mass of the pendulum, the length of the rod, gravitational acceleration, and optional damping."
   ]
  },
  {
   "cell_type": "code",
   "execution_count": 51,
   "id": "d0609900",
   "metadata": {},
   "outputs": [],
   "source": [
    "import numpy as np\n",
    "\n",
    "g = 9.8\n",
    "r = 1"
   ]
  },
  {
   "cell_type": "markdown",
   "id": "048c0388",
   "metadata": {},
   "source": [
    "## 2. Define the Simulation Parameters\n",
    "Simulation parameters define how the simulation is executed, such as the time step for the numerical method and the total simulation time."
   ]
  },
  {
   "cell_type": "code",
   "execution_count": null,
   "id": "929162bc",
   "metadata": {},
   "outputs": [],
   "source": []
  },
  {
   "cell_type": "code",
   "execution_count": 52,
   "id": "6c9d316e",
   "metadata": {},
   "outputs": [],
   "source": [
    "time = 0\n",
    "sim_time = 20\n",
    "dt = 0.01"
   ]
  },
  {
   "cell_type": "markdown",
   "id": "31645e8f",
   "metadata": {},
   "source": [
    "## 3. Prepare Data Storage\n",
    "To analyze and visualize the simulation, we will store the system's state (e.g., angular displacement and velocity) at each time step."
   ]
  },
  {
   "cell_type": "code",
   "execution_count": 53,
   "id": "bc2f09b5",
   "metadata": {},
   "outputs": [],
   "source": [
    "theta_data = []\n",
    "omega_data = []\n",
    "time_data = []"
   ]
  },
  {
   "cell_type": "markdown",
   "id": "4bdbbac5",
   "metadata": {},
   "source": [
    "## 4. Define Initial Conditions\n",
    "The initial conditions determine the starting state of the pendulum, such as its initial angle and angular velocity."
   ]
  },
  {
   "cell_type": "code",
   "execution_count": 54,
   "id": "fd9965b4",
   "metadata": {},
   "outputs": [],
   "source": [
    "theta = 0\n",
    "omega = 10\n",
    "\n",
    "# Store data for initial time step\n",
    "theta_data.append(theta)\n",
    "omega_data.append(omega)\n",
    "time_data.append(time)\n"
   ]
  },
  {
   "cell_type": "markdown",
   "id": "413bdf4a",
   "metadata": {},
   "source": [
    "## 5. Write the Forward Euler Solver\n",
    "The Forward Euler method is a simple numerical technique to approximate solutions to differential equations. We will use it to update the system's state step by step."
   ]
  },
  {
   "cell_type": "code",
   "execution_count": 55,
   "id": "ab48b5cb",
   "metadata": {},
   "outputs": [],
   "source": [
    "i = 0\n",
    "while time <= sim_time:\n",
    "    theta = theta_data[i] + omega_data[i] * dt\n",
    "    omega = omega_data[i] + (-g/r * np.cos(theta_data[i]) - 0.1*omega_data[i])*dt\n",
    "\n",
    "    \n",
    "    # Progress time\n",
    "    time = time + dt\n",
    "    i = i+1\n",
    "    \n",
    "    # Store data for initial time step\n",
    "    theta_data.append(theta)\n",
    "    omega_data.append(omega)\n",
    "    time_data.append(time)\n",
    "    \n"
   ]
  },
  {
   "cell_type": "markdown",
   "id": "97e95633",
   "metadata": {},
   "source": [
    "### Note\n",
    "\n",
    "During the lecture, I did not implement the forward Euler equation correctly.I used the newly updated $\\theta$ to update the $\\omega$-equation, rather than the previous value.\n",
    "\n",
    "I have updated this by pulling the previous value $ \\theta(t_i) $ instead of $ \\theta(t_{i+1}) $ from the stored data."
   ]
  },
  {
   "cell_type": "markdown",
   "id": "da938086",
   "metadata": {},
   "source": [
    "## 6. Visualize the Results\n",
    "Visualization helps us understand the dynamics of the system. We will plot the angular displacement over time and the phase space trajectory."
   ]
  },
  {
   "cell_type": "code",
   "execution_count": 57,
   "id": "4113a252",
   "metadata": {},
   "outputs": [
    {
     "data": {
      "image/png": "[encoded data removed]",
      "text/plain": [
       "<Figure size 432x288 with 1 Axes>"
      ]
     },
     "metadata": {
      "needs_background": "light"
     },
     "output_type": "display_data"
    }
   ],
   "source": [
    "import matplotlib.pyplot as plt\n",
    "\n",
    "plt.plot(time_data, theta_data, label=\"theta\")\n",
    "plt.plot(time_data, omega_data, label=\"omega\")\n",
    "plt.legend()\n",
    "plt.grid(True)\n",
    "plt.show()"
   ]
  },
  {
   "cell_type": "markdown",
   "id": "62f57c41",
   "metadata": {},
   "source": [
    "## 7. Conclusion and Discussion\n",
    "Summarize the key points of the session and explore further ideas such as adding damping or changing the time step."
   ]
  },
  {
   "cell_type": "code",
   "execution_count": null,
   "id": "44fe240b",
   "metadata": {},
   "outputs": [],
   "source": []
  }
 ],
 "metadata": {
  "kernelspec": {
   "display_name": "Python 3 (ipykernel)",
   "language": "python",
   "name": "python3"
  },
  "language_info": {
   "codemirror_mode": {
    "name": "ipython",
    "version": 3
   },
   "file_extension": ".py",
   "mimetype": "text/x-python",
   "name": "python",
   "nbconvert_exporter": "python",
   "pygments_lexer": "ipython3",
   "version": "3.9.12"
  }
 },
 "nbformat": 4,
 "nbformat_minor": 5
}
