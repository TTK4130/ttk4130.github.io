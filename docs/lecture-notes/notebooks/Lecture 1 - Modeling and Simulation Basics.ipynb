{
 "cells": [
  {
   "cell_type": "markdown",
   "metadata": {},
   "source": [
    "# Live Coding Session: Modeling and Simulation Basics\n",
    "\n",
    "## Objectives\n",
    "- Work with vectors and matrices in Python.\n",
    "- Learn how to iterate through arrays and perform matrix operations.\n",
    "- Explore symbolic math using SymPy.\n",
    "- Create simple plots with Matplotlib.\n",
    "- Define functions\n",
    "\n",
    "---\n",
    "\n",
    "## Section 1: Arrays and Matrices\n",
    "\n",
    "### Step 1.1: Create a Row and Column Vector\n",
    "We start by creating a row vector and a column vector using NumPy."
   ]
  },
  {
   "cell_type": "code",
   "execution_count": 3,
   "metadata": {},
   "outputs": [
    {
     "name": "stdout",
     "output_type": "stream",
     "text": [
      "v_flat:  [1 2 3]\n",
      "v_tall:\n",
      "  [[1]\n",
      " [2]\n",
      " [3]]\n"
     ]
    }
   ],
   "source": [
    "import numpy as np\n",
    "\n",
    "# Make a row vector using Numpy\n",
    "v_flat = np.array([1, 2, 3])\n",
    "print(\"v_flat: \", v_flat)\n",
    "\n",
    "# Make a column vector using Numpy\n",
    "v_tall = np.array([[1], [2], [3]])\n",
    "print(\"v_tall:\\n \", v_tall)"
   ]
  },
  {
   "cell_type": "markdown",
   "metadata": {},
   "source": [
    "### Step 1.2: Create a Matrix and perform matrix-vector multiplications\n",
    "We can also use Numpy to defind matrices and perform various mathematical operations on matrices and vectors"
   ]
  },
  {
   "cell_type": "code",
   "execution_count": 9,
   "metadata": {},
   "outputs": [
    {
     "name": "stdout",
     "output_type": "stream",
     "text": [
      "Matrix: \n",
      " [[1 2 3]\n",
      " [4 5 6]\n",
      " [7 8 9]]\n",
      "new vector:\n",
      "  [[14]\n",
      " [32]\n",
      " [50]]\n",
      "scalar:  [228]\n"
     ]
    }
   ],
   "source": [
    "# Create a matrix\n",
    "M = np.array([[1, 2, 3], [4, 5, 6], [7, 8, 9]])\n",
    "print(\"Matrix: \\n\", M)\n",
    "\n",
    "# Multipy the matrix by a vector using Nympy's dot method\n",
    "new_vector = np.dot(M, v_tall)\n",
    "print(\"new vector:\\n \", new_vector)\n",
    "\n",
    "# Make a scalar by dotting the column vector, matrix and row vector\n",
    "scalar = np.dot(np.dot(v_flat, M), v_tall)\n",
    "\n",
    "print(\"scalar: \", scalar)\n"
   ]
  },
  {
   "cell_type": "markdown",
   "metadata": {},
   "source": [
    "## Section 2: Arrays\n",
    "\n",
    "### Step 2.1: Generating an array\n",
    "Our task is to generate an array of time instances from 0 to 10 seconds with 0.5 second time steps. \n",
    "\n",
    "The linspace method takes the following arguments:\n",
    "- The starting value of the sequence\n",
    "- The end value of hte sequence\n",
    "- The number of samples to generate"
   ]
  },
  {
   "cell_type": "code",
   "execution_count": 10,
   "metadata": {},
   "outputs": [
    {
     "name": "stdout",
     "output_type": "stream",
     "text": [
      "[ 0.   0.5  1.   1.5  2.   2.5  3.   3.5  4.   4.5  5.   5.5  6.   6.5\n",
      "  7.   7.5  8.   8.5  9.   9.5 10. ]\n"
     ]
    }
   ],
   "source": [
    "# Generate an array using Numpy's linspace method\n",
    "step_size = 0.5\n",
    "n_steps = int(10/0.5)+1\n",
    "\n",
    "time_steps = np.linspace(0, 10, n_steps)\n",
    "print(time_steps)"
   ]
  },
  {
   "cell_type": "markdown",
   "metadata": {},
   "source": [
    "### Step 2.2: Iterate through the array\n",
    "\n",
    "We will use a for-loop to iterate through the array we generated to print each time step"
   ]
  },
  {
   "cell_type": "code",
   "execution_count": 11,
   "metadata": {},
   "outputs": [
    {
     "name": "stdout",
     "output_type": "stream",
     "text": [
      "time is:  0.0\n",
      "time is:  0.5\n",
      "time is:  1.0\n",
      "time is:  1.5\n",
      "time is:  2.0\n",
      "time is:  2.5\n",
      "time is:  3.0\n",
      "time is:  3.5\n",
      "time is:  4.0\n",
      "time is:  4.5\n",
      "time is:  5.0\n",
      "time is:  5.5\n",
      "time is:  6.0\n",
      "time is:  6.5\n",
      "time is:  7.0\n",
      "time is:  7.5\n",
      "time is:  8.0\n",
      "time is:  8.5\n",
      "time is:  9.0\n",
      "time is:  9.5\n",
      "time is:  10.0\n"
     ]
    }
   ],
   "source": [
    "# Iterate through the array and print something\n",
    "\n",
    "for t in time_steps: \n",
    "    print(\"time is: \", t)"
   ]
  },
  {
   "cell_type": "markdown",
   "metadata": {},
   "source": [
    "## Section 3: Symbolic math\n",
    "### Step 3.1: Defining variables and functions\n",
    "With symbolic math tools, we can define variables and do matematical operations on them symbolically. For example we may define functions and differentiate them."
   ]
  },
  {
   "cell_type": "code",
   "execution_count": 14,
   "metadata": {},
   "outputs": [
    {
     "name": "stdout",
     "output_type": "stream",
     "text": [
      "x1**3 + 2*x2\n"
     ]
    }
   ],
   "source": [
    "# Import diff, symbols and Matrix from sympy\n",
    "from sympy import symbols, diff, Matrix, sin\n",
    "\n",
    "# Define variables x1 and x2\n",
    "x1, x2 = symbols(\"x1 x2\")\n",
    "\n",
    "# Define two functions f1 and f2\n",
    "f1 = x1 ** 3 + 2*x2\n",
    "f2 = x2 * sin(x1)\n",
    "\n",
    "print(f1)"
   ]
  },
  {
   "cell_type": "markdown",
   "metadata": {},
   "source": [
    "### Step 3.2: Find Partial derivatives\n",
    "Finding partial derivatives is something we have to deal with often in this course, and often the expressions are not nice to work with by hand. "
   ]
  },
  {
   "cell_type": "code",
   "execution_count": 16,
   "metadata": {},
   "outputs": [
    {
     "name": "stdout",
     "output_type": "stream",
     "text": [
      "3*x1**2\n"
     ]
    }
   ],
   "source": [
    "# Find the partial derivatives of f1 and f2 wrt x1 and x2\n",
    "df1_dx1 = diff(f1, x1)\n",
    "df1_dx2 = diff(f1, x1)\n",
    "df2_dx1 = diff(f1, x1)\n",
    "df2_dx2 = diff(f1, x1)\n",
    "\n",
    "print(df1_dx1)"
   ]
  },
  {
   "cell_type": "markdown",
   "metadata": {},
   "source": [
    "### Step 3.3: Use the chain rule in sympy\n",
    "Given the function $f(x_1(t), x_2(t))$ as an example, we have that $\\frac{df}{dt} = \\frac{\\partial f}{\\partial x_1} \\frac{dx_1}{dt} + \\frac{\\partial f}{\\partial x_2} \\frac{dx_2}{dt}$\n",
    "\n",
    "Let's pretend like x1 and x2, defined above, are functions of time, and then try to find the time derivative of our funcitons f1 and f2"
   ]
  },
  {
   "cell_type": "code",
   "execution_count": 17,
   "metadata": {},
   "outputs": [
    {
     "name": "stdout",
     "output_type": "stream",
     "text": [
      "3*dx1*x1**2 + 3*dx2*x1**2\n"
     ]
    }
   ],
   "source": [
    "# Define variables for time derivatives of x1 and x2\n",
    "dx1, dx2 = symbols(\"dx1 dx2\")\n",
    "\n",
    "\n",
    "# Find the time derivative of f1 and f2\n",
    "df1_dt = df1_dx1 * dx1 + df1_dx2 * dx2\n",
    "print(df1_dt)"
   ]
  },
  {
   "cell_type": "markdown",
   "metadata": {},
   "source": [
    "### Step 3.4: Find the Jacobian for a Vector-Valued Function\n",
    "\n",
    "Given a function $\\boldsymbol{f}(\\boldsymbol{x})$, where $\\boldsymbol{f}$ is an n-dimensional vector of functions and $\\boldsymbol{x}$ is an m-dimensional vector, the Jacobian is defined as:\n",
    "\n",
    "$$\n",
    "\\mathbf{J} =\n",
    "\\begin{bmatrix}\n",
    "\\frac{\\partial f_1}{\\partial x_1} & \\dots & \\frac{\\partial f_1}{\\partial x_m} \\\\\n",
    "\\vdots & \\ddots & \\vdots \\\\\n",
    "\\frac{\\partial f_n}{\\partial x_1} & \\dots & \\frac{\\partial f_n}{\\partial x_m}\n",
    "\\end{bmatrix}\n",
    "$$\n",
    "\n",
    "We will find the Jacobian for $f_1$ and $f_2$."
   ]
  },
  {
   "cell_type": "code",
   "execution_count": 19,
   "metadata": {},
   "outputs": [
    {
     "name": "stdout",
     "output_type": "stream",
     "text": [
      "Matrix([[3*x1**2, 2], [x2*cos(x1), sin(x1)]])\n"
     ]
    }
   ],
   "source": [
    "# Define the Jacobian for f1 and f2\n",
    "functions = Matrix([f1, f2])\n",
    "variables = Matrix([x1, x2])\n",
    "\n",
    "jacobian = functions.jacobian(variables)\n",
    "print(jacobian)"
   ]
  },
  {
   "cell_type": "markdown",
   "metadata": {},
   "source": [
    "## Section 4: Plotting\n",
    "\n",
    "We will make a time array and plot teh function $\\sin t$ using the Python module Matplotlib"
   ]
  },
  {
   "cell_type": "code",
   "execution_count": 9,
   "metadata": {},
   "outputs": [],
   "source": [
    "# Make a time array from 0 to 2*pi\n",
    "\n",
    "# Make an array for the value of sin(t) for each value of the time array\n",
    "\n",
    "# Set up the plot\n"
   ]
  },
  {
   "cell_type": "markdown",
   "metadata": {},
   "source": [
    "## Section 5: Defining functions\n",
    "\n",
    "In Python (and MATLAB) you can define functions (methods). We will make an example here"
   ]
  },
  {
   "cell_type": "code",
   "execution_count": 10,
   "metadata": {},
   "outputs": [],
   "source": [
    "# Define a function to calculate the square root of an input, including handling of negative numbers\n",
    "\n",
    "# Call the function and show the result"
   ]
  },
  {
   "cell_type": "code",
   "execution_count": null,
   "metadata": {},
   "outputs": [],
   "source": []
  },
  {
   "cell_type": "code",
   "execution_count": null,
   "metadata": {},
   "outputs": [],
   "source": []
  },
  {
   "cell_type": "code",
   "execution_count": null,
   "metadata": {},
   "outputs": [],
   "source": []
  }
 ],
 "metadata": {
  "kernelspec": {
   "display_name": "Python 3 (ipykernel)",
   "language": "python",
   "name": "python3"
  },
  "language_info": {
   "codemirror_mode": {
    "name": "ipython",
    "version": 3
   },
   "file_extension": ".py",
   "mimetype": "text/x-python",
   "name": "python",
   "nbconvert_exporter": "python",
   "pygments_lexer": "ipython3",
   "version": "3.9.12"
  }
 },
 "nbformat": 4,
 "nbformat_minor": 2
}
